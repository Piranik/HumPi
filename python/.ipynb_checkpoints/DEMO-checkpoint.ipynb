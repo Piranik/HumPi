{
 "metadata": {
  "name": "",
  "signature": "sha256:a911a441282960fd1e79e82915df9318edca34dac219f257516a7a5935077090"
 },
 "nbformat": 3,
 "nbformat_minor": 0,
 "worksheets": [
  {
   "cells": [
    {
     "cell_type": "code",
     "collapsed": false,
     "input": [
      "from scipy.optimize import leastsq\n",
      "import numpy as np\n",
      "from numpy import sin, pi\n",
      "\n",
      "import alsaaudio\n",
      "import numexpr as ne\n",
      "\n",
      "import threading\n",
      "from __future__ import with_statement\n",
      "\n",
      "import sys\n",
      "import array\n",
      "import time"
     ],
     "language": "python",
     "metadata": {},
     "outputs": [],
     "prompt_number": 1
    },
    {
     "cell_type": "code",
     "collapsed": false,
     "input": [
      "RECORD_SECONDS = 20\n",
      "MEASURMENT_DURATION = 1\n",
      "WAVE_OUTPUT_FILENAME = \"output.wav\"\n",
      "CHANNELS = 1\n",
      "INPUT_CHANNEL=2\n",
      "RATE = 48000\n",
      "INFORMAT    = alsaaudio.PCM_FORMAT_FLOAT_LE\n",
      "FRAMESIZE   = 1024\n",
      "CHANNELS = 1"
     ],
     "language": "python",
     "metadata": {},
     "outputs": [],
     "prompt_number": 2
    },
    {
     "cell_type": "code",
     "collapsed": false,
     "input": [
      "# This is a multithreading compatible buffer for a single producer and a single consumer\n",
      "# The data is stored in two different arrays. The producer pours his data in the \n",
      "# self.leftdata array iff self.left = True, and in self.rightdata otherwise. \n",
      "# The consumer consumes the data which was inserted last and \n",
      "# resets the correspoding side. The consumer also inverts the self.left variable on consumation.\n",
      "\n",
      "#According to \n",
      "#https://stackoverflow.com/questions/7133885/fastest-way-to-grow-a-numpy-numeric-array\n",
      "# appending to python arrays is way faster than appending to numpy arrays.\n",
      "\n",
      "class Buffer():\n",
      "    def __init__(self):\n",
      "        self.leftdata = array.array('f')\n",
      "        self.rightdata = array.array('f')\n",
      "        self.size = 0        \n",
      "        self.left = False\n",
      "        self.lock = threading.Lock()\n",
      "        self.condition = threading.Condition()\n",
      "        self.minimumBufferSize = sys.maxint\n",
      "\n",
      "    def extend(self,stream):\n",
      "        [length, string] = stream\n",
      "        if self.left:\n",
      "            self.leftdata.fromstring(string)\n",
      "        else: \n",
      "            self.rightdata.fromstring(string)\n",
      "        with self.lock:\n",
      "            self.size += length\n",
      "            self.condition.acquire()\n",
      "            if self.minimumBufferSize <=  self.size:\n",
      "                #print(\"Producer filled buffer\")\n",
      "                self.condition.notify()\n",
      "            self.condition.release()    \n",
      "        \n",
      "    def get(self, length):\n",
      "        if (self.size < length):\n",
      "            \n",
      "            with self.lock:\n",
      "                self.minimumBufferSize = length\n",
      "            #print(\"Waiting for data \", self.size, length)\n",
      "            self.condition.acquire()\n",
      "            self.condition.wait()\n",
      "            self.condition.release()\n",
      "            #print(\"data is ready\", self.size, length)\n",
      "            with self.lock:\n",
      "                 self.minimumBufferSize = sys.maxint\n",
      "        with self.lock:\n",
      "            if self.left:\n",
      "                self.data = self.leftdata\n",
      "                self.leftdata =  array.array('f')\n",
      "                #print(\"left\", self.leftdata)\n",
      "            else:\n",
      "                self.data = self.rightdata\n",
      "                self.rightdata =  array.array('f')\n",
      "                #print(\"right\",self.rightdata)\n",
      "            self.left = not self.left\n",
      "            ind=self.size\n",
      "            self.size=0\n",
      "        self.data = np.array(self.data, dtype='f')\n",
      "        return self.data[(ind-length) + np.arange(length)]"
     ],
     "language": "python",
     "metadata": {},
     "outputs": [],
     "prompt_number": 3
    },
    {
     "cell_type": "code",
     "collapsed": false,
     "input": [
      "class capture_hum (threading.Thread):\n",
      "    def __init__(self, threadID, name, seconds, buffer):\n",
      "        threading.Thread.__init__(self)\n",
      "        self.threadID = threadID\n",
      "        self.name = name\n",
      "        self.seconds = seconds\n",
      "        self.buffer= buffer\n",
      "    def run(self):\n",
      "#def capture_hum(seconds, buffer):\n",
      "        recorder=alsaaudio.PCM(alsaaudio.PCM_CAPTURE,\n",
      "                       alsaaudio.PCM_NORMAL, \n",
      "                       u'sysdefault:CARD=Device')\n",
      "        recorder.setchannels(CHANNELS)\n",
      "        recorder.setrate(RATE)\n",
      "        recorder.setformat(INFORMAT)\n",
      "        recorder.setperiodsize(FRAMESIZE)\n",
      " \n",
      "\n",
      "        print(\"* started recording\")\n",
      "        try:\n",
      "            for i in range(0, int(RATE / FRAMESIZE * self.seconds)):\n",
      "                self.buffer.extend(recorder.read())\n",
      "        except Exception,e:\n",
      "            print str(e)\n",
      "        print(\"* stopped recording\")"
     ],
     "language": "python",
     "metadata": {},
     "outputs": [],
     "prompt_number": 4
    },
    {
     "cell_type": "code",
     "collapsed": false,
     "input": [
      "class analyze_hum(threading.Thread):\n",
      "    def __init__(self, threadID, name, seconds, buffer):\n",
      "        threading.Thread.__init__(self)\n",
      "        self.threadID = threadID\n",
      "        self.name = name\n",
      "        self.seconds = seconds\n",
      "        self.buffer= buffer\n",
      "    \n",
      "    def run(self):\n",
      "#def analyze_hum(seconds, buffer):\n",
      "        def residuals(p,x,y):\n",
      "            A, k, theta = p\n",
      "            x = x\n",
      "            y = y\n",
      "            err = ne.evaluate('y - A * sin(2 * pi * k * x + theta)')\n",
      "            #err = y - A * sin(2 * pi * k * x + theta)\n",
      "            return err\n",
      "        \n",
      "        x = np.divide(np.arange(RATE*MEASURMENT_DURATION),np.array(RATE,dtype=float))\n",
      "        a = 0.15\n",
      "        b = 50\n",
      "        c = 0\n",
      "        for i in range(self.seconds):\n",
      "            y = self.buffer.get(RATE*MEASURMENT_DURATION)\n",
      "            start_time = time.time()\n",
      "            plsq = leastsq(residuals, np.array([a,b,c]),args=(x,y))\n",
      "            a = plsq[0][0]\n",
      "            b = plsq[0][1]\n",
      "            c = plsq[0][2]\n",
      "            print(\"Frequency =\", b, \"measured in\", time.time() - start_time)\n",
      "            #print(plsq[0][1],\" --- took %s seconds ---\" % ((time.time() - start_time)/10))"
     ],
     "language": "python",
     "metadata": {},
     "outputs": [],
     "prompt_number": 5
    },
    {
     "cell_type": "code",
     "collapsed": false,
     "input": [
      "databuffer = Buffer()\n",
      "capture = capture_hum(1,\"Capture\", RECORD_SECONDS, databuffer)\n",
      "analyze = analyze_hum(2,\"Analyze\", RECORD_SECONDS-1, databuffer)\n",
      "\n",
      "capture.start()\n",
      "analyze.start()\n",
      "#capture.join()\n",
      "#analyze.join()"
     ],
     "language": "python",
     "metadata": {},
     "outputs": [
      {
       "output_type": "stream",
       "stream": "stdout",
       "text": [
        "* started recording\n"
       ]
      },
      {
       "output_type": "stream",
       "stream": "stdout",
       "text": [
        "('Frequency =', 49.96754889755745, 'measured in', 0.5592679977416992)\n",
        "('Frequency =', 49.973391981068886, 'measured in', 0.5658400058746338)\n"
       ]
      },
      {
       "output_type": "stream",
       "stream": "stdout",
       "text": [
        "('Frequency =', 49.965585992371928, 'measured in', 0.4614849090576172)\n",
        "('Frequency =', 49.964569412914827, 'measured in', 0.5015749931335449)\n"
       ]
      },
      {
       "output_type": "stream",
       "stream": "stdout",
       "text": [
        "('Frequency =', 49.964815504839457, 'measured in', 0.44960713386535645)\n",
        "('Frequency =', 49.963548657020041, 'measured in', 0.4786038398742676)\n"
       ]
      },
      {
       "output_type": "stream",
       "stream": "stdout",
       "text": [
        "('Frequency =', 49.962475759635339, 'measured in', 0.4048318862915039)\n",
        "('Frequency =', 49.96281496128077, 'measured in', 0.436021089553833)\n"
       ]
      },
      {
       "output_type": "stream",
       "stream": "stdout",
       "text": [
        "('Frequency =', 49.960334193424032, 'measured in', 0.49513721466064453)\n",
        "('Frequency =', 49.960085979899631, 'measured in', 0.43233513832092285)\n"
       ]
      },
      {
       "output_type": "stream",
       "stream": "stdout",
       "text": [
        "('Frequency =', 49.961219877454951, 'measured in', 0.5055439472198486)\n",
        "('Frequency =', 49.961328730024313, 'measured in', 0.4455869197845459)\n"
       ]
      },
      {
       "output_type": "stream",
       "stream": "stdout",
       "text": [
        "('Frequency =', 49.963164915274923, 'measured in', 0.4802579879760742)\n",
        "('Frequency =', 49.961911122498591, 'measured in', 0.450488805770874)\n"
       ]
      },
      {
       "output_type": "stream",
       "stream": "stdout",
       "text": [
        "('Frequency =', 49.963383398623037, 'measured in', 0.42009711265563965)\n",
        "('Frequency =', 49.966356551561546, 'measured in', 0.5083038806915283)\n"
       ]
      },
      {
       "output_type": "stream",
       "stream": "stdout",
       "text": [
        "('Frequency =', 49.965465566562052, 'measured in', 0.48460888862609863)\n",
        "('Frequency =', 49.964767734537261, 'measured in', 0.4560389518737793)"
       ]
      },
      {
       "output_type": "stream",
       "stream": "stdout",
       "text": [
        "\n",
        "('Frequency =', 49.966286735511801, 'measured in', 0.45731592178344727)\n"
       ]
      }
     ],
     "prompt_number": 6
    },
    {
     "cell_type": "code",
     "collapsed": false,
     "input": [],
     "language": "python",
     "metadata": {},
     "outputs": [
      {
       "output_type": "stream",
       "stream": "stdout",
       "text": [
        "* stopped recording\n"
       ]
      }
     ],
     "prompt_number": 6
    }
   ],
   "metadata": {}
  }
 ]
}