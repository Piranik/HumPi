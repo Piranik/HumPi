{
 "metadata": {
  "name": "",
  "signature": "sha256:afa1eddc35f1d101ed1175480607ffc0896e659c7a144e1b093310aaecc805a3"
 },
 "nbformat": 3,
 "nbformat_minor": 0,
 "worksheets": [
  {
   "cells": [
    {
     "cell_type": "code",
     "collapsed": false,
     "input": [
      "from scipy.optimize import leastsq\n",
      "#from scipy.io import wavfile\n",
      "import numpy as np\n",
      "from numpy import sin, pi\n",
      "\n",
      "import alsaaudio\n",
      "import numexpr as ne\n",
      "\n",
      "import threading\n",
      "from __future__ import with_statement\n",
      "\n",
      "import sys\n",
      "import array\n",
      "import time\n",
      "\n",
      "#import matplotlib.pyplot as plt"
     ],
     "language": "python",
     "metadata": {},
     "outputs": [],
     "prompt_number": 1
    },
    {
     "cell_type": "code",
     "collapsed": false,
     "input": [
      "RECORD_SECONDS = 10\n",
      "MEASURMENT_DURATION = 1\n",
      "#WAVE_OUTPUT_FILENAME = \"output.wav\"\n",
      "BUFFERMAXSIZE = 60 #seconds\n",
      "CHANNELS = 1\n",
      "INPUT_CHANNEL=2\n",
      "RATE = 24000\n",
      "INFORMAT    = alsaaudio.PCM_FORMAT_FLOAT_LE\n",
      "FRAMESIZE   = 512\n",
      "ne.set_num_threads(3)"
     ],
     "language": "python",
     "metadata": {},
     "outputs": [
      {
       "metadata": {},
       "output_type": "pyout",
       "prompt_number": 2,
       "text": [
        "4"
       ]
      }
     ],
     "prompt_number": 2
    },
    {
     "cell_type": "code",
     "collapsed": false,
     "input": [
      "# A multithreading compatible buffer. Tuned for maximum write_in performance\n",
      "\n",
      "#According to \n",
      "#https://stackoverflow.com/questions/7133885/fastest-way-to-grow-a-numpy-numeric-array\n",
      "# appending to python arrays is way faster than appending to numpy arrays.\n",
      "\n",
      "class Buffer():\n",
      "    def __init__(self, minSize, maxSize):\n",
      "        self.data = array.array('f')\n",
      "        self.lock = threading.Lock()\n",
      "        self.minSize = minSize\n",
      "        self.maxSize = maxSize\n",
      "\n",
      "    def extend(self,stream):\n",
      "        [length, string] = stream\n",
      "        if length > 0:\n",
      "            with self.lock:\n",
      "                self.data.fromstring(string)\n",
      "        \n",
      "    def get(self, length):        \n",
      "        with self.lock:\n",
      "            bufferSize = self.data.buffer_info()[1]\n",
      "            if bufferSize >= self.maxSize:\n",
      "                #shrink buffer\n",
      "                newdata = array.array('f')\n",
      "                iterator = (self.data[x] for x in range(bufferSize - self.minSize, bufferSize))\n",
      "                newdata.extend(iterator)\n",
      "                self.data = newdata\n",
      "            iterator = (self.data[x] for x in range(bufferSize-length, bufferSize))\n",
      "            return np.fromiter(iterator, dtype='f')"
     ],
     "language": "python",
     "metadata": {},
     "outputs": [],
     "prompt_number": 3
    },
    {
     "cell_type": "code",
     "collapsed": false,
     "input": [
      "class capture_hum (threading.Thread):\n",
      "    def __init__(self, threadID, name, seconds, buffer):\n",
      "        threading.Thread.__init__(self)\n",
      "        self.threadID = threadID\n",
      "        self.name = name\n",
      "        self.seconds = seconds\n",
      "        self.buffer= buffer\n",
      "\n",
      "    def run(self):\n",
      "        recorder=alsaaudio.PCM(alsaaudio.PCM_CAPTURE,\n",
      "                       alsaaudio.PCM_NORMAL, \n",
      "                       u'sysdefault:CARD=Device')\n",
      "        recorder.setchannels(CHANNELS)\n",
      "        recorder.setrate(RATE)\n",
      "        recorder.setformat(INFORMAT)\n",
      "        recorder.setperiodsize(FRAMESIZE)\n",
      " \n",
      "\n",
      "        print(self.name ,\"* started recording\")\n",
      "        try:\n",
      "            for i in range(0, int(RATE / FRAMESIZE * self.seconds)):\n",
      "                self.buffer.extend(recorder.read())\n",
      "        except Exception,e:\n",
      "            print(self.name ,str(e))\n",
      "        print(self.name ,\"* stopped recording\")"
     ],
     "language": "python",
     "metadata": {},
     "outputs": [],
     "prompt_number": 7
    },
    {
     "cell_type": "code",
     "collapsed": false,
     "input": [
      "class analyze_hum(threading.Thread):\n",
      "    def __init__(self, threadID, name, seconds, buffer):\n",
      "        threading.Thread.__init__(self)\n",
      "        self.threadID = threadID\n",
      "        self.name = name\n",
      "        self.seconds = seconds\n",
      "        self.buffer= buffer\n",
      "    \n",
      "    def run(self):\n",
      "        def residuals(p,x,y):\n",
      "            A, k, theta = p\n",
      "            x = x\n",
      "            y = y\n",
      "            err = ne.evaluate('y - A * sin(2 * pi * k * x + theta)')\n",
      "            #err = y - A * sin(2 * pi * k * x + theta)\n",
      "            return err\n",
      "        \n",
      "        print(self.name ,\"* Started measurements\")\n",
      "        x = np.divide(np.arange(RATE*MEASURMENT_DURATION),np.array(RATE,dtype=float))\n",
      "        a = 0.2\n",
      "        b = 50\n",
      "        c = 0\n",
      "        \n",
      "        analyze_start = time.time()\n",
      "        while time.time() - analyze_start < self.seconds:\n",
      "            start_time = time.time()\n",
      "            y = self.buffer.get(RATE*MEASURMENT_DURATION)\n",
      "            plsq = leastsq(residuals, np.array([a,b,c]),args=(x,y))\n",
      "            a = plsq[0][0]\n",
      "            b = plsq[0][1]\n",
      "            c = plsq[0][2]\n",
      "            print(\"Analyze: Frequency =\", b, \"measured in\", time.time() - start_time)\n",
      "        print(self.name ,\"* Finished measurements\")"
     ],
     "language": "python",
     "metadata": {},
     "outputs": [],
     "prompt_number": 11
    },
    {
     "cell_type": "code",
     "collapsed": false,
     "input": [
      "databuffer = Buffer(RATE*MEASURMENT_DURATION, RATE*BUFFERMAXSIZE)\n",
      "capture = capture_hum(1,\"Capture\", RECORD_SECONDS, databuffer)\n",
      "capture.start()\n",
      "\n",
      "time.sleep(MEASURMENT_DURATION+0.05)\n",
      "analyze = analyze_hum(2,\"Analyze\", RECORD_SECONDS-MEASURMENT_DURATION, databuffer)\n",
      "analyze.start()"
     ],
     "language": "python",
     "metadata": {},
     "outputs": [
      {
       "output_type": "stream",
       "stream": "stdout",
       "text": [
        "('Capture', '* started recording')\n"
       ]
      },
      {
       "output_type": "stream",
       "stream": "stdout",
       "text": [
        "('Analyze', '* Started measurements')\n",
        "('Analyze: Frequency =', 50.046617910765811, 'measured in', 0.6026308536529541)\n"
       ]
      },
      {
       "output_type": "stream",
       "stream": "stdout",
       "text": [
        "('Analyze: Frequency =', 50.046279805268689, 'measured in', 0.26291418075561523)\n",
        "('Analyze: Frequency =', 50.048208588117561, 'measured in', 0.2536499500274658)\n"
       ]
      },
      {
       "output_type": "stream",
       "stream": "stdout",
       "text": [
        "('Analyze: Frequency =', 50.049189883918764, 'measured in', 0.37915587425231934)\n",
        "('Analyze: Frequency =', 50.048290183669884, 'measured in', 0.31946492195129395)"
       ]
      },
      {
       "output_type": "stream",
       "stream": "stdout",
       "text": [
        "\n",
        "('Analyze: Frequency =', 50.047988825066668, 'measured in', 0.2222599983215332)\n"
       ]
      },
      {
       "output_type": "stream",
       "stream": "stdout",
       "text": [
        "('Analyze: Frequency =', 50.048659463886892, 'measured in', 0.575451135635376)\n",
        "('Analyze: Frequency =', 50.047081511208241, 'measured in', 0.2939269542694092)\n"
       ]
      },
      {
       "output_type": "stream",
       "stream": "stdout",
       "text": [
        "('Analyze: Frequency =', 50.045363764251483, 'measured in', 0.27527499198913574)\n",
        "('Analyze: Frequency =', 50.045297855498404, 'measured in', 0.2670118808746338)\n"
       ]
      },
      {
       "output_type": "stream",
       "stream": "stdout",
       "text": [
        "('Analyze: Frequency =', 50.045821439017253, 'measured in', 0.35697484016418457)\n",
        "('Analyze: Frequency =', 50.044530721729458, 'measured in', 0.2700772285461426)\n"
       ]
      },
      {
       "output_type": "stream",
       "stream": "stdout",
       "text": [
        "('Analyze: Frequency =', 50.044235677817817, 'measured in', 0.29238104820251465)\n",
        "('Analyze: Frequency =', 50.044801434746702, 'measured in', 0.2149360179901123)\n"
       ]
      },
      {
       "output_type": "stream",
       "stream": "stdout",
       "text": [
        "('Analyze: Frequency =', 50.044892624123499, 'measured in', 0.5746681690216064)\n",
        "('Analyze: Frequency =', 50.04302747638593, 'measured in', 0.2983269691467285)\n"
       ]
      },
      {
       "output_type": "stream",
       "stream": "stdout",
       "text": [
        "('Analyze: Frequency =', 50.044231948955684, 'measured in', 0.2832338809967041)\n",
        "('Analyze: Frequency =', 50.044343444224936, 'measured in', 0.28856515884399414)"
       ]
      },
      {
       "output_type": "stream",
       "stream": "stdout",
       "text": [
        "\n",
        "('Analyze: Frequency =', 50.042020746401882, 'measured in', 0.2861049175262451)\n"
       ]
      },
      {
       "output_type": "stream",
       "stream": "stdout",
       "text": [
        "('Analyze: Frequency =', 50.040668205101099, 'measured in', 0.32314205169677734)\n",
        "('Analyze: Frequency =', 50.040833983384935, 'measured in', 0.21356511116027832)"
       ]
      },
      {
       "output_type": "stream",
       "stream": "stdout",
       "text": [
        "\n",
        "('Analyze: Frequency =', 50.040826939089804, 'measured in', 0.5432400703430176)\n"
       ]
      },
      {
       "output_type": "stream",
       "stream": "stdout",
       "text": [
        "('Analyze: Frequency =', 50.03832288276972, 'measured in', 0.5362920761108398)\n",
        "('Analyze: Frequency =', 50.039460825081925, 'measured in', 0.3496248722076416)\n"
       ]
      },
      {
       "output_type": "stream",
       "stream": "stdout",
       "text": [
        "('Analyze: Frequency =', 50.03941524321629, 'measured in', 0.29969215393066406)\n",
        "('Capture', '* stopped recording')\n"
       ]
      },
      {
       "output_type": "stream",
       "stream": "stdout",
       "text": [
        "('Analyze: Frequency =', 50.039172961874726, 'measured in', 0.3180818557739258)\n",
        "('Analyze: Frequency =', 50.039095641093802, 'measured in', 0.3069040775299072)\n",
        "('Analyze', '* Finished measurements')\n"
       ]
      }
     ],
     "prompt_number": 12
    },
    {
     "cell_type": "code",
     "collapsed": false,
     "input": [],
     "language": "python",
     "metadata": {},
     "outputs": [],
     "prompt_number": 9
    }
   ],
   "metadata": {}
  }
 ]
}