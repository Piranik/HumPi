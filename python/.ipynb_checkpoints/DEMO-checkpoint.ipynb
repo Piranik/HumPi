{
 "metadata": {
  "name": "",
  "signature": "sha256:b4f9b8de634ae5c947203d1b94eab51e25f2ebf2eb20dfded7b0ff2219e4be52"
 },
 "nbformat": 3,
 "nbformat_minor": 0,
 "worksheets": [
  {
   "cells": [
    {
     "cell_type": "code",
     "collapsed": false,
     "input": [
      "import pyaudio\n",
      "from scipy.io import wavfile\n",
      "import numpy as np\n",
      "from numpy import sin, pi\n",
      "from matplotlib import pyplot as plt\n",
      "\n",
      "import time\n",
      "import numexpr as ne\n",
      "from scipy.optimize import minimize,leastsq"
     ],
     "language": "python",
     "metadata": {},
     "outputs": [],
     "prompt_number": 1
    },
    {
     "cell_type": "code",
     "collapsed": false,
     "input": [
      "CHUNK = 256\n",
      "FORMAT = pyaudio.paInt16\n",
      "CHANNELS = 1\n",
      "RATE = 44100\n",
      "DOWNSAMPLE = 1\n",
      "RECORD_SECONDS = 1\n",
      "INPUT_CHANNEL = 2\n",
      "WAVE_OUTPUT_FILENAME = \"output.wav\""
     ],
     "language": "python",
     "metadata": {},
     "outputs": [],
     "prompt_number": 2
    },
    {
     "cell_type": "code",
     "collapsed": false,
     "input": [
      "p = pyaudio.PyAudio()\n",
      "stream = p.open(format=FORMAT,\n",
      "                channels=CHANNELS,\n",
      "                rate=RATE,\n",
      "                input=3,\n",
      "                frames_per_buffer=CHUNK)\n",
      "\n",
      "print(\"* recording\")\n",
      "\n",
      "frames = []\n",
      "try:\n",
      "    for i in range(0, int(RATE / CHUNK * RECORD_SECONDS)):\n",
      "        data = stream.read(CHUNK)\n",
      "        data = np.fromstring(data, dtype=np.int16).reshape(-1,DOWNSAMPLE).mean(axis=1)\n",
      "        frames.append(data)\n",
      "finally:\n",
      "    stream.stop_stream()\n",
      "    stream.close()\n",
      "    p.terminate()\n",
      "\n",
      "print(\"* done recording\")\n",
      "\n",
      "y = np.hstack(frames)\n",
      "#wavfile.write(WAVE_OUTPUT_FILENAME,RATE,y)\n",
      "plt.plot(y)\n",
      "plt.show()"
     ],
     "language": "python",
     "metadata": {},
     "outputs": [
      {
       "output_type": "stream",
       "stream": "stdout",
       "text": [
        "* recording\n",
        "* done recording"
       ]
      },
      {
       "output_type": "stream",
       "stream": "stdout",
       "text": [
        "\n"
       ]
      }
     ],
     "prompt_number": 3
    },
    {
     "cell_type": "code",
     "collapsed": false,
     "input": [
      "def residuals(p):\n",
      "    A, k, theta = p\n",
      "    err = ne.evaluate('y - A * sin(2 * pi * k * x + theta)')\n",
      "    return err\n"
     ],
     "language": "python",
     "metadata": {},
     "outputs": [],
     "prompt_number": 4
    },
    {
     "cell_type": "code",
     "collapsed": false,
     "input": [
      "x = np.divide(range(0,y.size),np.array(RATE,dtype=float))\n",
      "\n",
      "start_time = time.time()\n",
      "for i in range(10):\n",
      "    plsq = leastsq(residuals, np.array([1500,50,2]))\n",
      "    print(plsq[0])\n",
      "print(\"--- %s seconds ---\" % (time.time() - start_time))"
     ],
     "language": "python",
     "metadata": {},
     "outputs": [
      {
       "output_type": "stream",
       "stream": "stdout",
       "text": [
        "[-1419.40690673    50.0057961      2.87547775]\n",
        "[-1419.40690673    50.0057961      2.87547775]"
       ]
      },
      {
       "output_type": "stream",
       "stream": "stdout",
       "text": [
        "\n",
        "[-1419.40690673    50.0057961      2.87547775]"
       ]
      },
      {
       "output_type": "stream",
       "stream": "stdout",
       "text": [
        "\n",
        "[-1419.40690673    50.0057961      2.87547775]"
       ]
      },
      {
       "output_type": "stream",
       "stream": "stdout",
       "text": [
        "\n",
        "[-1419.40690673    50.0057961      2.87547775]"
       ]
      },
      {
       "output_type": "stream",
       "stream": "stdout",
       "text": [
        "\n",
        "[-1419.40690673    50.0057961      2.87547775]"
       ]
      },
      {
       "output_type": "stream",
       "stream": "stdout",
       "text": [
        "\n",
        "[-1419.40690673    50.0057961      2.87547775]"
       ]
      },
      {
       "output_type": "stream",
       "stream": "stdout",
       "text": [
        "\n",
        "[-1419.40690673    50.0057961      2.87547775]"
       ]
      },
      {
       "output_type": "stream",
       "stream": "stdout",
       "text": [
        "\n",
        "[-1419.40690673    50.0057961      2.87547775]"
       ]
      },
      {
       "output_type": "stream",
       "stream": "stdout",
       "text": [
        "\n",
        "[-1419.40690673    50.0057961      2.87547775]"
       ]
      },
      {
       "output_type": "stream",
       "stream": "stdout",
       "text": [
        "\n",
        "--- 8.62256217003 seconds ---\n"
       ]
      }
     ],
     "prompt_number": 5
    },
    {
     "cell_type": "code",
     "collapsed": false,
     "input": [],
     "language": "python",
     "metadata": {},
     "outputs": [],
     "prompt_number": 22
    },
    {
     "cell_type": "code",
     "collapsed": false,
     "input": [],
     "language": "python",
     "metadata": {},
     "outputs": [],
     "prompt_number": 12
    },
    {
     "cell_type": "code",
     "collapsed": false,
     "input": [],
     "language": "python",
     "metadata": {},
     "outputs": []
    }
   ],
   "metadata": {}
  }
 ]
}