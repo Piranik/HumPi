{
 "metadata": {
  "name": "",
  "signature": "sha256:7c8f99edb9552bb6c73afa1473e495230048a7445055d7327ede0d57df307c60"
 },
 "nbformat": 3,
 "nbformat_minor": 0,
 "worksheets": [
  {
   "cells": [
    {
     "cell_type": "code",
     "collapsed": false,
     "input": [
      "import pyaudio\n",
      "from scipy.io import wavfile\n",
      "import numpy as np\n",
      "from numpy import sin, pi\n",
      "from matplotlib import pyplot as plt\n",
      "\n",
      "import time\n",
      "import numexpr as ne\n",
      "from scipy.optimize import minimize,leastsq\n",
      "\n",
      "import threading\n",
      "from __future__ import with_statement\n",
      "\n",
      "import sys"
     ],
     "language": "python",
     "metadata": {},
     "outputs": [],
     "prompt_number": 31
    },
    {
     "cell_type": "code",
     "collapsed": false,
     "input": [
      "CHUNK = 128\n",
      "FORMAT = pyaudio.paInt16\n",
      "CHANNELS = 1\n",
      "RATE = 44100\n",
      "DOWNSAMPLE = 1\n",
      "RECORD_SECONDS = 2\n",
      "INPUT_CHANNEL = 2\n",
      "BUFFERSIZE_SECONDS = 3\n",
      "MEASURMENT_DURATION = 1\n",
      "WAVE_OUTPUT_FILENAME = \"output.wav\""
     ],
     "language": "python",
     "metadata": {},
     "outputs": [],
     "prompt_number": 63
    },
    {
     "cell_type": "code",
     "collapsed": false,
     "input": [
      "class Buffer():\n",
      "    def __init__(self, length):\n",
      "        self.leftdata = np.zeros(length, dtype='f')\n",
      "        self.rightdata = np.zeros(length, dtype='f')\n",
      "        self.left = True;\n",
      "        self.index = 0\n",
      "        self.lock = threading.Lock()\n",
      "        self.condition = threading.Condition()\n",
      "        self.minimumBufferSize = sys.maxint\n",
      "\n",
      "    def extend(self, x):\n",
      "        with self.lock:\n",
      "            self.condition.acquire()\n",
      "            x_index = self.index + np.arange(x.size)\n",
      "            if self.left:\n",
      "                self.leftdata[x_index] = x\n",
      "            else: \n",
      "                self.rightdata[x_index] = x\n",
      "            self.index = self.index + x.size\n",
      "            if self.minimumBufferSize >= self.index:\n",
      "                self.condition.notify()\n",
      "            self.condition.release()    \n",
      "        \n",
      "    def get(self, length):\n",
      "        if (self.index <= length):\n",
      "            print(\"Waiting for data\")\n",
      "            with self.lock:\n",
      "                self.minimumBufferSize = length\n",
      "            self.condition.wait()\n",
      "            print(\"data is ready\")\n",
      "            with self.lock:\n",
      "                 self.minimumBufferSize = sys.maxint\n",
      "            \n",
      "        with self.lock:\n",
      "            ind=self.index\n",
      "            self.left= not self.left\n",
      "            self.index=0\n",
      "                \n",
      "        if not self.left:\n",
      "            return self.leftdata[(ind-length+1) + np.arange(length)]\n",
      "        else: \n",
      "            return self.rightdata[(ind-length+1) + np.arange(length)]"
     ],
     "language": "python",
     "metadata": {},
     "outputs": [],
     "prompt_number": 64
    },
    {
     "cell_type": "code",
     "collapsed": false,
     "input": [
      "p = pyaudio.PyAudio()\n",
      "stream = p.open(format=FORMAT,\n",
      "                channels=CHANNELS,\n",
      "                rate=RATE,\n",
      "                input=3,\n",
      "                frames_per_buffer=CHUNK)\n",
      "\n",
      "print(\"* recording\")\n",
      "\n",
      "buffer = Buffer(BUFFERSIZE_SECONDS*RATE/DOWNSAMPLE)\n",
      "try:\n",
      "    for i in range(0, int(RATE / CHUNK * RECORD_SECONDS)):\n",
      "        data = stream.read(CHUNK)\n",
      "        data = np.fromstring(data, dtype=np.int16).reshape(-1,DOWNSAMPLE).mean(axis=1)\n",
      "        buffer.extend(data)\n",
      "finally:\n",
      "    stream.stop_stream()\n",
      "    stream.close()\n",
      "    p.terminate()\n",
      "\n",
      "print(\"* done recording\")\n",
      "\n",
      "y = buffer.get(RATE*MEASURMENT_DURATION/DOWNSAMPLE)\n",
      "#wavfile.write(WAVE_OUTPUT_FILENAME,RATE,y)\n",
      "plt.plot(y)\n",
      "plt.show()"
     ],
     "language": "python",
     "metadata": {},
     "outputs": [
      {
       "output_type": "stream",
       "stream": "stdout",
       "text": [
        "* recording\n",
        "* done recording"
       ]
      },
      {
       "output_type": "stream",
       "stream": "stdout",
       "text": [
        "\n"
       ]
      }
     ],
     "prompt_number": 65
    },
    {
     "cell_type": "code",
     "collapsed": false,
     "input": [
      "def residuals(p):\n",
      "    A, k, theta = p\n",
      "    err = ne.evaluate('y - A * sin(2 * pi * k * x + theta)')\n",
      "    return err\n"
     ],
     "language": "python",
     "metadata": {},
     "outputs": [],
     "prompt_number": 66
    },
    {
     "cell_type": "code",
     "collapsed": false,
     "input": [
      "x = np.divide(np.arange(y.size),np.array(RATE,dtype=float))\n",
      "\n",
      "start_time = time.time()\n",
      "for i in range(10):\n",
      "    plsq = leastsq(residuals, np.array([1500,50,2]))\n",
      "    print(i)\n",
      "print(plsq[0])\n",
      "print(\"--- Average measurment duration = %s seconds ---\" % ((time.time() - start_time)/10))"
     ],
     "language": "python",
     "metadata": {},
     "outputs": [
      {
       "output_type": "stream",
       "stream": "stdout",
       "text": [
        "0\n",
        "1"
       ]
      },
      {
       "output_type": "stream",
       "stream": "stdout",
       "text": [
        "\n",
        "2"
       ]
      },
      {
       "output_type": "stream",
       "stream": "stdout",
       "text": [
        "\n",
        "3"
       ]
      },
      {
       "output_type": "stream",
       "stream": "stdout",
       "text": [
        "\n",
        "4"
       ]
      },
      {
       "output_type": "stream",
       "stream": "stdout",
       "text": [
        "\n",
        "5"
       ]
      },
      {
       "output_type": "stream",
       "stream": "stdout",
       "text": [
        "\n",
        "6"
       ]
      },
      {
       "output_type": "stream",
       "stream": "stdout",
       "text": [
        "\n",
        "7"
       ]
      },
      {
       "output_type": "stream",
       "stream": "stdout",
       "text": [
        "\n",
        "8"
       ]
      },
      {
       "output_type": "stream",
       "stream": "stdout",
       "text": [
        "\n",
        "9"
       ]
      },
      {
       "output_type": "stream",
       "stream": "stdout",
       "text": [
        "\n",
        "[  1.44477591e+03   4.99790610e+01   5.97721647e-01]\n",
        "--- Average measurment duration = 0.842554092407 seconds ---\n"
       ]
      }
     ],
     "prompt_number": 67
    },
    {
     "cell_type": "code",
     "collapsed": false,
     "input": [],
     "language": "python",
     "metadata": {},
     "outputs": [],
     "prompt_number": 67
    },
    {
     "cell_type": "code",
     "collapsed": false,
     "input": [],
     "language": "python",
     "metadata": {},
     "outputs": [],
     "prompt_number": 67
    },
    {
     "cell_type": "code",
     "collapsed": false,
     "input": [],
     "language": "python",
     "metadata": {},
     "outputs": []
    }
   ],
   "metadata": {}
  }
 ]
}