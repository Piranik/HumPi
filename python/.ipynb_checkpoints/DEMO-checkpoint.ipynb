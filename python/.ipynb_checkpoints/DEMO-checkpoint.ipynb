{
 "metadata": {
  "name": "",
  "signature": "sha256:315ac455152c17b3799d553f8b346c100544b80f8b6adf9e9401ab2e7b06d36c"
 },
 "nbformat": 3,
 "nbformat_minor": 0,
 "worksheets": [
  {
   "cells": [
    {
     "cell_type": "code",
     "collapsed": false,
     "input": [
      "from scipy.io import wavfile\n",
      "import numpy as np\n",
      "from numpy import sin, pi\n",
      "from matplotlib import pyplot as plt\n",
      "\n",
      "import alsaaudio\n",
      "\n",
      "import time\n",
      "import numexpr as ne\n",
      "from scipy.optimize import minimize,leastsq\n",
      "\n",
      "import threading\n",
      "from __future__ import with_statement\n",
      "\n",
      "import sys\n",
      "import array\n",
      "\n"
     ],
     "language": "python",
     "metadata": {},
     "outputs": [
      {
       "output_type": "stream",
       "stream": "stdout",
       "text": [
        "* stopped recording\n"
       ]
      }
     ],
     "prompt_number": 7
    },
    {
     "cell_type": "code",
     "collapsed": false,
     "input": [
      "RECORD_SECONDS = 20\n",
      "MEASURMENT_DURATION = 1\n",
      "WAVE_OUTPUT_FILENAME = \"output.wav\"\n",
      "CHANNELS = 1\n",
      "INPUT_CHANNEL=2\n",
      "RATE = 48000\n",
      "INFORMAT    = alsaaudio.PCM_FORMAT_FLOAT_LE\n",
      "FRAMESIZE   = 1024\n",
      "CHANNELS = 1"
     ],
     "language": "python",
     "metadata": {},
     "outputs": [],
     "prompt_number": 8
    },
    {
     "cell_type": "code",
     "collapsed": false,
     "input": [
      "##This is a multithreading compatible buffer for a single producer and a single consumer\n",
      "#The data is stored in two different arrays. The producer fills the data int the self.leftdata array if \n",
      "# self.left = True, and in the other otherwise. The consumer consumes the data which was inserted last and reset\n",
      "#the correspoding side. The consumer also inverts the self.left variable on consumation.\n",
      "\n",
      "#According to \n",
      "#https://stackoverflow.com/questions/7133885/fastest-way-to-grow-a-numpy-numeric-array\n",
      "# appending to python arrays is way faster than appending to numpy arrays.\n",
      "\n",
      "class Buffer():\n",
      "    def __init__(self):\n",
      "        self.leftdata = array.array('f')\n",
      "        self.rightdata = array.array('f')\n",
      "        self.size = 0        \n",
      "        self.left = False\n",
      "        self.lock = threading.Lock()\n",
      "        self.condition = threading.Condition()\n",
      "        self.minimumBufferSize = sys.maxint\n",
      "\n",
      "    def extend(self,stream):\n",
      "        [length, string] = stream\n",
      "        if self.left:\n",
      "            self.leftdata.fromstring(string)\n",
      "        else: \n",
      "            self.rightdata.fromstring(string)\n",
      "        with self.lock:\n",
      "            self.size += length\n",
      "            self.condition.acquire()\n",
      "            if self.minimumBufferSize <=  self.size:\n",
      "                #print(\"Producer filled buffer\")\n",
      "                self.condition.notify()\n",
      "            self.condition.release()    \n",
      "        \n",
      "    def get(self, length):\n",
      "        if (self.size < length):\n",
      "            \n",
      "            with self.lock:\n",
      "                self.minimumBufferSize = length\n",
      "            #print(\"Waiting for data \", self.size, length)\n",
      "            self.condition.acquire()\n",
      "            self.condition.wait()\n",
      "            self.condition.release()\n",
      "            #print(\"data is ready\", self.size, length)\n",
      "            with self.lock:\n",
      "                 self.minimumBufferSize = sys.maxint\n",
      "        with self.lock:\n",
      "            if self.left:\n",
      "                self.data = self.leftdata\n",
      "                self.leftdata =  array.array('f')\n",
      "                #print(\"left\", self.leftdata)\n",
      "            else:\n",
      "                self.data = self.rightdata\n",
      "                self.rightdata =  array.array('f')\n",
      "                #print(\"right\",self.rightdata)\n",
      "            self.left = not self.left\n",
      "            ind=self.size\n",
      "            self.size=0\n",
      "        self.data = np.array(self.data, dtype='f')\n",
      "        return self.data[(ind-length) + np.arange(length)]"
     ],
     "language": "python",
     "metadata": {},
     "outputs": [],
     "prompt_number": 9
    },
    {
     "cell_type": "code",
     "collapsed": false,
     "input": [
      "class capture_hum (threading.Thread):\n",
      "    def __init__(self, threadID, name, seconds, buffer):\n",
      "        threading.Thread.__init__(self)\n",
      "        self.threadID = threadID\n",
      "        self.name = name\n",
      "        self.seconds = seconds\n",
      "        self.buffer= buffer\n",
      "    def run(self):\n",
      "#def capture_hum(seconds, buffer):\n",
      "        recorder=alsaaudio.PCM(alsaaudio.PCM_CAPTURE,\n",
      "                       alsaaudio.PCM_NORMAL, \n",
      "                       u'sysdefault:CARD=Device')\n",
      "        recorder.setchannels(CHANNELS)\n",
      "        recorder.setrate(RATE)\n",
      "        recorder.setformat(INFORMAT)\n",
      "        recorder.setperiodsize(FRAMESIZE)\n",
      " \n",
      "\n",
      "        print(\"* started recording\")\n",
      "        try:\n",
      "            for i in range(0, int(RATE / FRAMESIZE * self.seconds)):\n",
      "                self.buffer.extend(recorder.read())\n",
      "        except Exception,e:\n",
      "            print str(e)\n",
      "        print(\"* stopped recording\")"
     ],
     "language": "python",
     "metadata": {},
     "outputs": [],
     "prompt_number": 10
    },
    {
     "cell_type": "code",
     "collapsed": false,
     "input": [
      "class analyze_hum(threading.Thread):\n",
      "    def __init__(self, threadID, name, seconds, buffer):\n",
      "        threading.Thread.__init__(self)\n",
      "        self.threadID = threadID\n",
      "        self.name = name\n",
      "        self.seconds = seconds\n",
      "        self.buffer= buffer\n",
      "    \n",
      "    def run(self):\n",
      "#def analyze_hum(seconds, buffer):\n",
      "        def residuals(p,x,y):\n",
      "            A, k, theta = p\n",
      "            x = x\n",
      "            y = y\n",
      "            err = ne.evaluate('y - A * sin(2 * pi * k * x + theta)')\n",
      "            #err = y - A * sin(2 * pi * k * x + theta)\n",
      "            return err\n",
      "        \n",
      "        x = np.divide(np.arange(RATE*MEASURMENT_DURATION),np.array(RATE,dtype=float))\n",
      "        a = 0.15\n",
      "        b = 50\n",
      "        c = 0\n",
      "        for i in range(self.seconds):\n",
      "            y = self.buffer.get(RATE*MEASURMENT_DURATION)\n",
      "            start_time = time.time()\n",
      "            plsq = leastsq(residuals, np.array([a,b,c]),args=(x,y))\n",
      "            a = plsq[0][0]\n",
      "            b = plsq[0][1]\n",
      "            c = plsq[0][2]\n",
      "            print(\"Frequency =\", b, \"measured in\", time.time() - start_time)\n",
      "            #print(plsq[0][1],\" --- took %s seconds ---\" % ((time.time() - start_time)/10))"
     ],
     "language": "python",
     "metadata": {},
     "outputs": [],
     "prompt_number": 11
    },
    {
     "cell_type": "code",
     "collapsed": false,
     "input": [
      "databuffer = Buffer()\n",
      "capture = capture_hum(1,\"Capture\", RECORD_SECONDS, databuffer)\n",
      "analyze = analyze_hum(2,\"Analyze\", RECORD_SECONDS-1, databuffer)\n",
      "\n",
      "capture.start()\n",
      "analyze.start()\n",
      "#capture.join()\n",
      "#analyze.join()"
     ],
     "language": "python",
     "metadata": {},
     "outputs": [
      {
       "output_type": "stream",
       "stream": "stdout",
       "text": [
        "* started recording\n"
       ]
      },
      {
       "output_type": "stream",
       "stream": "stdout",
       "text": [
        "('Frequency =', 49.987517062533477, 'measured in', 0.6746761798858643)\n",
        "('Frequency =', 49.98820891606907, 'measured in', 0.4211740493774414)\n"
       ]
      },
      {
       "output_type": "stream",
       "stream": "stdout",
       "text": [
        "('Frequency =', 49.98800151081759, 'measured in', 0.46434998512268066)\n",
        "('Frequency =', 49.988288114944453, 'measured in', 0.44766998291015625)\n"
       ]
      },
      {
       "output_type": "stream",
       "stream": "stdout",
       "text": [
        "('Frequency =', 49.988324869151015, 'measured in', 0.48282599449157715)\n",
        "('Frequency =', 49.987037137175584, 'measured in', 0.5017640590667725)\n"
       ]
      },
      {
       "output_type": "stream",
       "stream": "stdout",
       "text": [
        "('Frequency =', 49.98632056695574, 'measured in', 0.429095983505249)\n",
        "('Frequency =', 49.985925282840185, 'measured in', 0.469343900680542)"
       ]
      },
      {
       "output_type": "stream",
       "stream": "stdout",
       "text": [
        "\n",
        "('Frequency =', 49.986995050990572, 'measured in', 0.4889349937438965)\n"
       ]
      },
      {
       "output_type": "stream",
       "stream": "stdout",
       "text": [
        "('Frequency =', 49.98627006203337, 'measured in', 0.4580869674682617)\n",
        "('Frequency =', 49.986243275684849, 'measured in', 0.46620798110961914)\n"
       ]
      },
      {
       "output_type": "stream",
       "stream": "stdout",
       "text": [
        "('Frequency =', 49.985769535759957, 'measured in', 0.4796299934387207)\n",
        "('Frequency =', 49.986379541252838, 'measured in', 0.4424309730529785)\n"
       ]
      },
      {
       "output_type": "stream",
       "stream": "stdout",
       "text": [
        "('Frequency =', 49.987263202988053, 'measured in', 0.4613070487976074)\n",
        "('Frequency =', 49.988412352581754, 'measured in', 0.43802690505981445)\n"
       ]
      },
      {
       "output_type": "stream",
       "stream": "stdout",
       "text": [
        "('Frequency =', 49.988185418039052, 'measured in', 0.5688998699188232)\n",
        "('Frequency =', 49.988912007267118, 'measured in', 0.6594259738922119)\n"
       ]
      },
      {
       "output_type": "stream",
       "stream": "stdout",
       "text": [
        "('Frequency =', 50.032911152127518, 'measured in', 0.714245080947876)\n",
        "* stopped recording\n"
       ]
      }
     ],
     "prompt_number": 12
    },
    {
     "cell_type": "code",
     "collapsed": false,
     "input": [],
     "language": "python",
     "metadata": {},
     "outputs": []
    }
   ],
   "metadata": {}
  }
 ]
}