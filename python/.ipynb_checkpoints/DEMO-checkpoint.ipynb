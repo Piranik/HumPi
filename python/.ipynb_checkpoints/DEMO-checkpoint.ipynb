{
 "metadata": {
  "name": "",
  "signature": "sha256:6418c5b2122c514927a5c7ab62e2fd7b95ef4d137b3b260bb40c837b0b951d1b"
 },
 "nbformat": 3,
 "nbformat_minor": 0,
 "worksheets": [
  {
   "cells": [
    {
     "cell_type": "code",
     "collapsed": false,
     "input": [
      "import pyaudio\n",
      "from scipy.io import wavfile\n",
      "import numpy as np\n",
      "from numpy import sin, pi\n",
      "from matplotlib import pyplot as plt\n",
      "\n",
      "import time\n",
      "import numexpr as ne\n",
      "from scipy.optimize import minimize,leastsq\n",
      "\n",
      "import threading\n",
      "from __future__ import with_statement\n",
      "\n",
      "import sys\n",
      "import array"
     ],
     "language": "python",
     "metadata": {},
     "outputs": [],
     "prompt_number": 1
    },
    {
     "cell_type": "code",
     "collapsed": false,
     "input": [
      "CHUNK = 512\n",
      "RECORD_SECONDS = 2\n",
      "BUFFERSIZE_SECONDS = 2\n",
      "MEASURMENT_DURATION = 1\n",
      "WAVE_OUTPUT_FILENAME = \"output.wav\"\n",
      "MEASUREMENT_THREADS=ne.detect_number_of_cores()-1\n",
      "ne.set_num_threads(MEASUREMENT_THREADS)"
     ],
     "language": "python",
     "metadata": {},
     "outputs": [
      {
       "metadata": {},
       "output_type": "pyout",
       "prompt_number": 17,
       "text": [
        "3"
       ]
      }
     ],
     "prompt_number": 17
    },
    {
     "cell_type": "code",
     "collapsed": false,
     "input": [
      "##This is a multithreading compatible buffer for a single producer and a single consumer\n",
      "#The data is stored in two different arrays. The producer fills the data int the self.leftdata array if \n",
      "# self.left = True, and in the other otherwise. The consumer consumes the data which was inserted last and reset\n",
      "#the correspoding side. The consumer also inverts the self.left variable on consumation.\n",
      "\n",
      "#According to \n",
      "#https://stackoverflow.com/questions/7133885/fastest-way-to-grow-a-numpy-numeric-array\n",
      "# appending to python arrays is way faster than appending to numpy arrays.\n",
      "\n",
      "class Buffer():\n",
      "    def __init__(self):\n",
      "        self.leftdata = array.array('h')\n",
      "        self.rightdata = []\n",
      "        self.size = 0        \n",
      "        self.left = True\n",
      "        self.lock = threading.Lock()\n",
      "        self.condition = threading.Condition()\n",
      "        self.minimumBufferSize = sys.maxint\n",
      "\n",
      "    def extend(self,x):\n",
      "        if self.left:\n",
      "            self.leftdata.extend(x)\n",
      "        else: \n",
      "            self.rightdata.extend(x)\n",
      "        with self.lock:\n",
      "            self.size += x.buffer_info()[1]\n",
      "            self.condition.acquire()\n",
      "            if self.minimumBufferSize <=  self.size:\n",
      "                self.condition.notify()\n",
      "            self.condition.release()    \n",
      "        \n",
      "    def get(self, length):\n",
      "        if (self.size < length):\n",
      "            print(\"Waiting for data \", self.size, length)\n",
      "            with self.lock:\n",
      "                self.minimumBufferSize = length\n",
      "            self.condition.acquire()\n",
      "            self.condition.wait()\n",
      "            self.condition.release()\n",
      "            print(\"data is ready\")\n",
      "            with self.lock:\n",
      "                 self.minimumBufferSize = sys.maxint\n",
      "        with self.lock:\n",
      "            ind=self.size\n",
      "            if self.left:\n",
      "                self.data = self.leftdata;            \t \n",
      "                self.leftdata =  array.array('h')\n",
      "            else:\n",
      "                self.data = self.rightdata;            \t \n",
      "                self.rightdata =  array.array('h')\n",
      "            self.left= not self.left\n",
      "            self.size=0\n",
      "        self.data = np.array(self.data, dtype='i')\n",
      "        return self.data[(ind-length) + np.arange(length)]"
     ],
     "language": "python",
     "metadata": {},
     "outputs": [],
     "prompt_number": 18
    },
    {
     "cell_type": "code",
     "collapsed": false,
     "input": [
      "FORMAT = pyaudio.paInt16\n",
      "CHANNELS = 1\n",
      "INPUT_CHANNEL=2\n",
      "RATE = 48000\n",
      "\n",
      "p = pyaudio.PyAudio()\n",
      "if p.is_format_supported(rate=RATE,\n",
      "                         input_device=INPUT_CHANNEL, \n",
      "                         input_channels=CHANNELS, \n",
      "                         input_format=FORMAT): \n",
      "    print 'Yay!' \n",
      "\n"
     ],
     "language": "python",
     "metadata": {},
     "outputs": [
      {
       "output_type": "stream",
       "stream": "stdout",
       "text": [
        "Yay!\n"
       ]
      }
     ],
     "prompt_number": 23
    },
    {
     "cell_type": "code",
     "collapsed": false,
     "input": [
      "p = pyaudio.PyAudio()\n",
      "stream = p.open(format=FORMAT,\n",
      "                channels=CHANNELS,\n",
      "                rate=RATE,\n",
      "                input=INPUT_CHANNEL,\n",
      "                frames_per_buffer =CHUNK)\n",
      "\n",
      "print(\"* recording\")\n",
      "\n",
      "\n",
      "buffer = Buffer()\n",
      "try:\n",
      "    for i in range(0, int(RATE / CHUNK * RECORD_SECONDS)):\n",
      "        data = array.array('h')\n",
      "        data.fromstring(stream.read(CHUNK))\n",
      "        buffer.extend(data)\n",
      "finally:\n",
      "    stream.stop_stream()\n",
      "    stream.close()\n",
      "    p.terminate()\n",
      "\n",
      "print(\"* done recording\")\n",
      "\n",
      "y = buffer.get(RATE*MEASURMENT_DURATION)\n",
      "#wavfile.write(WAVE_OUTPUT_FILENAME,RATE,y)\n",
      "plt.plot(y)\n",
      "plt.show()"
     ],
     "language": "python",
     "metadata": {},
     "outputs": [
      {
       "output_type": "stream",
       "stream": "stdout",
       "text": [
        "* recording\n",
        "* done recording"
       ]
      },
      {
       "output_type": "stream",
       "stream": "stdout",
       "text": [
        "\n"
       ]
      }
     ],
     "prompt_number": 20
    },
    {
     "cell_type": "code",
     "collapsed": false,
     "input": [
      "def residuals(p):\n",
      "    A, k, theta = p\n",
      "    err = ne.evaluate('y - A * sin(2 * pi * k * x + theta)')\n",
      "    return err\n"
     ],
     "language": "python",
     "metadata": {},
     "outputs": [],
     "prompt_number": 21
    },
    {
     "cell_type": "code",
     "collapsed": false,
     "input": [
      "start_time = time.time()\n",
      "for i in range(10):\n",
      "    x = np.divide(np.arange(y.size),np.array(RATE,dtype=float))\n",
      "    plsq = leastsq(residuals, np.array([4400,50,2]))\n",
      "    print(i)\n",
      "print(plsq[0])\n",
      "print(\"--- Average measurment duration = %s seconds ---\" % ((time.time() - start_time)/10))"
     ],
     "language": "python",
     "metadata": {},
     "outputs": [
      {
       "output_type": "stream",
       "stream": "stdout",
       "text": [
        "0\n",
        "1"
       ]
      },
      {
       "output_type": "stream",
       "stream": "stdout",
       "text": [
        "\n",
        "2"
       ]
      },
      {
       "output_type": "stream",
       "stream": "stdout",
       "text": [
        "\n",
        "3"
       ]
      },
      {
       "output_type": "stream",
       "stream": "stdout",
       "text": [
        "\n",
        "4"
       ]
      },
      {
       "output_type": "stream",
       "stream": "stdout",
       "text": [
        "\n",
        "5"
       ]
      },
      {
       "output_type": "stream",
       "stream": "stdout",
       "text": [
        "\n",
        "6"
       ]
      },
      {
       "output_type": "stream",
       "stream": "stdout",
       "text": [
        "\n",
        "7"
       ]
      },
      {
       "output_type": "stream",
       "stream": "stdout",
       "text": [
        "\n",
        "8"
       ]
      },
      {
       "output_type": "stream",
       "stream": "stdout",
       "text": [
        "\n",
        "9"
       ]
      },
      {
       "output_type": "stream",
       "stream": "stdout",
       "text": [
        "\n",
        "[  4.97156263e+03   5.00159685e+01   9.01790974e-01]\n",
        "--- Average measurment duration = 0.611594414711 seconds ---\n"
       ]
      }
     ],
     "prompt_number": 22
    },
    {
     "cell_type": "code",
     "collapsed": false,
     "input": [],
     "language": "python",
     "metadata": {},
     "outputs": [],
     "prompt_number": 146
    },
    {
     "cell_type": "code",
     "collapsed": false,
     "input": [
      "    "
     ],
     "language": "python",
     "metadata": {},
     "outputs": [],
     "prompt_number": 146
    },
    {
     "cell_type": "code",
     "collapsed": false,
     "input": [],
     "language": "python",
     "metadata": {},
     "outputs": [],
     "prompt_number": 146
    },
    {
     "cell_type": "code",
     "collapsed": false,
     "input": [
      "\n"
     ],
     "language": "python",
     "metadata": {},
     "outputs": [],
     "prompt_number": 146
    },
    {
     "cell_type": "code",
     "collapsed": false,
     "input": [],
     "language": "python",
     "metadata": {},
     "outputs": []
    }
   ],
   "metadata": {}
  }
 ]
}