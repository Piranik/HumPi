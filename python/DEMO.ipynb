{
 "metadata": {
  "name": "",
  "signature": "sha256:37ee83c6102b37d5aeab88cc7c9b1fad3cbdb123c2d2b83910fe5a32d59e3c18"
 },
 "nbformat": 3,
 "nbformat_minor": 0,
 "worksheets": [
  {
   "cells": [
    {
     "cell_type": "code",
     "collapsed": false,
     "input": [
      "from scipy.optimize import leastsq\n",
      "#from scipy.io import wavfile\n",
      "import numpy as np\n",
      "from numpy import sin, pi\n",
      "\n",
      "import alsaaudio\n",
      "import numexpr as ne\n",
      "\n",
      "import threading\n",
      "from __future__ import with_statement\n",
      "\n",
      "import sys\n",
      "import array\n",
      "import time\n",
      "\n",
      "#import matplotlib.pyplot as plt"
     ],
     "language": "python",
     "metadata": {},
     "outputs": [],
     "prompt_number": 1
    },
    {
     "cell_type": "code",
     "collapsed": false,
     "input": [
      "RECORD_SECONDS = 10\n",
      "MEASURMENT_DURATION = 1\n",
      "#WAVE_OUTPUT_FILENAME = \"output.wav\"\n",
      "BUFFERMAXSIZE = 60 #seconds\n",
      "CHANNELS = 1\n",
      "INPUT_CHANNEL=2\n",
      "RATE = 24000\n",
      "INFORMAT    = alsaaudio.PCM_FORMAT_FLOAT_LE\n",
      "FRAMESIZE   = 512\n",
      "ne.set_num_threads(3)"
     ],
     "language": "python",
     "metadata": {},
     "outputs": [
      {
       "metadata": {},
       "output_type": "pyout",
       "prompt_number": 2,
       "text": [
        "4"
       ]
      }
     ],
     "prompt_number": 2
    },
    {
     "cell_type": "code",
     "collapsed": false,
     "input": [
      "# A multithreading compatible buffer. Tuned for maximum write_in performance\n",
      "\n",
      "#According to \n",
      "#https://stackoverflow.com/questions/7133885/fastest-way-to-grow-a-numpy-numeric-array\n",
      "# appending to python arrays is way faster than appending to numpy arrays.\n",
      "\n",
      "class Buffer():\n",
      "    def __init__(self, minSize, maxSize):\n",
      "        self.data = array.array('f')\n",
      "        self.lock = threading.Lock()\n",
      "        self.minSize = minSize\n",
      "        self.maxSize = maxSize\n",
      "\n",
      "    def extend(self,stream):\n",
      "        [length, string] = stream\n",
      "        if length > 0:\n",
      "            with self.lock:\n",
      "                self.data.fromstring(string)\n",
      "        \n",
      "    def get(self, length):        \n",
      "        with self.lock:\n",
      "            bufferSize = self.data.buffer_info()[1]\n",
      "            if bufferSize >= self.maxSize:\n",
      "                #shrink buffer\n",
      "                newdata = array.array('f')\n",
      "                iterator = (self.data[x] for x in range(bufferSize - self.minSize, bufferSize))\n",
      "                newdata.extend(iterator)\n",
      "                self.data = newdata\n",
      "        iterator = (self.data[x] for x in range(bufferSize-length, bufferSize))\n",
      "        return np.fromiter(iterator, dtype='f')"
     ],
     "language": "python",
     "metadata": {},
     "outputs": [],
     "prompt_number": 3
    },
    {
     "cell_type": "code",
     "collapsed": false,
     "input": [
      "class capture_hum (threading.Thread):\n",
      "    def __init__(self, threadID, name, seconds, buffer):\n",
      "        threading.Thread.__init__(self)\n",
      "        self.threadID = threadID\n",
      "        self.name = name\n",
      "        self.seconds = seconds\n",
      "        self.buffer= buffer\n",
      "\n",
      "    def run(self):\n",
      "        recorder=alsaaudio.PCM(alsaaudio.PCM_CAPTURE,\n",
      "                       alsaaudio.PCM_NORMAL, \n",
      "                       u'sysdefault:CARD=Device')\n",
      "        recorder.setchannels(CHANNELS)\n",
      "        recorder.setrate(RATE)\n",
      "        recorder.setformat(INFORMAT)\n",
      "        recorder.setperiodsize(FRAMESIZE)\n",
      " \n",
      "\n",
      "        print(self.name ,\"* started recording\")\n",
      "        try:\n",
      "            for i in range(0, int(RATE / FRAMESIZE * self.seconds)):\n",
      "                self.buffer.extend(recorder.read())\n",
      "        except Exception,e:\n",
      "            print(self.name ,str(e))\n",
      "        print(self.name ,\"* stopped recording\")"
     ],
     "language": "python",
     "metadata": {},
     "outputs": [],
     "prompt_number": 4
    },
    {
     "cell_type": "code",
     "collapsed": false,
     "input": [
      "class analyze_hum(threading.Thread):\n",
      "    def __init__(self, threadID, name, seconds, buffer):\n",
      "        threading.Thread.__init__(self)\n",
      "        self.threadID = threadID\n",
      "        self.name = name\n",
      "        self.seconds = seconds\n",
      "        self.buffer= buffer\n",
      "    \n",
      "    def run(self):\n",
      "        def residuals(p,x,y):\n",
      "            A, k, theta = p\n",
      "            x = x\n",
      "            y = y\n",
      "            err = ne.evaluate('y - A * sin(2 * pi * k * x + theta)')\n",
      "            #err = y - A * sin(2 * pi * k * x + theta)\n",
      "            return err\n",
      "        \n",
      "        print(self.name ,\"* Started measurements\")\n",
      "        x = np.divide(np.arange(RATE*MEASURMENT_DURATION),np.array(RATE,dtype=float))\n",
      "        a = 0.2\n",
      "        b = 50\n",
      "        c = 0\n",
      "        \n",
      "        analyze_start = time.time()\n",
      "        while time.time() - analyze_start < self.seconds:\n",
      "            start_time = time.time()\n",
      "            y = self.buffer.get(RATE*MEASURMENT_DURATION)\n",
      "            plsq = leastsq(residuals, np.array([a,b,c]),args=(x,y))\n",
      "            a = plsq[0][0]\n",
      "            b = plsq[0][1]\n",
      "            c = plsq[0][2]\n",
      "            print(\"Analyze: Frequency =\", b, \"measured in\", time.time() - start_time)\n",
      "        print(self.name ,\"* Finished measurements\")"
     ],
     "language": "python",
     "metadata": {},
     "outputs": [],
     "prompt_number": 5
    },
    {
     "cell_type": "code",
     "collapsed": false,
     "input": [
      "databuffer = Buffer(RATE*MEASURMENT_DURATION, RATE*BUFFERMAXSIZE)\n",
      "capture = capture_hum(1,\"Capture\", RECORD_SECONDS, databuffer)\n",
      "capture.start()\n",
      "\n",
      "time.sleep(MEASURMENT_DURATION+0.05)\n",
      "analyze = analyze_hum(2,\"Analyze\", RECORD_SECONDS-MEASURMENT_DURATION, databuffer)\n",
      "analyze.start()"
     ],
     "language": "python",
     "metadata": {},
     "outputs": [
      {
       "output_type": "stream",
       "stream": "stdout",
       "text": [
        "('Capture', '* started recording')\n"
       ]
      },
      {
       "output_type": "stream",
       "stream": "stdout",
       "text": [
        "('Analyze', '* Started measurements')\n",
        "('Analyze: Frequency =', 50.002824182361969, 'measured in', 0.4280269145965576)\n"
       ]
      },
      {
       "output_type": "stream",
       "stream": "stdout",
       "text": [
        "('Analyze: Frequency =', 50.003861771668412, 'measured in', 0.4210989475250244)\n",
        "('Analyze: Frequency =', 50.004695230644607, 'measured in', 0.37629199028015137)\n"
       ]
      },
      {
       "output_type": "stream",
       "stream": "stdout",
       "text": [
        "('Analyze: Frequency =', 50.005627355331889, 'measured in', 0.4546799659729004)\n",
        "('Analyze: Frequency =', 50.006693088067955, 'measured in', 0.4632399082183838)\n"
       ]
      },
      {
       "output_type": "stream",
       "stream": "stdout",
       "text": [
        "('Analyze: Frequency =', 50.006715384301181, 'measured in', 0.3496220111846924)\n",
        "('Analyze: Frequency =', 50.006138409840638, 'measured in', 0.2509610652923584)\n"
       ]
      },
      {
       "output_type": "stream",
       "stream": "stdout",
       "text": [
        "('Analyze: Frequency =', 50.006203644769087, 'measured in', 0.3869748115539551)\n",
        "('Analyze: Frequency =', 50.006306587574862, 'measured in', 0.3267500400543213)\n"
       ]
      },
      {
       "output_type": "stream",
       "stream": "stdout",
       "text": [
        "('Analyze: Frequency =', 50.00642005591974, 'measured in', 0.2693350315093994)\n",
        "('Analyze: Frequency =', 50.006472393296356, 'measured in', 0.2784888744354248)\n"
       ]
      },
      {
       "output_type": "stream",
       "stream": "stdout",
       "text": [
        "('Analyze: Frequency =', 50.006577079976303, 'measured in', 0.34604978561401367)\n",
        "('Analyze: Frequency =', 50.006984922787353, 'measured in', 0.2147359848022461)\n"
       ]
      },
      {
       "output_type": "stream",
       "stream": "stdout",
       "text": [
        "('Analyze: Frequency =', 50.007486819658602, 'measured in', 0.5502071380615234)\n",
        "('Analyze: Frequency =', 50.00768201513705, 'measured in', 0.3923799991607666)\n"
       ]
      },
      {
       "output_type": "stream",
       "stream": "stdout",
       "text": [
        "('Analyze: Frequency =', 50.008162203115418, 'measured in', 0.4552950859069824)\n",
        "('Analyze: Frequency =', 50.008600363004362, 'measured in', 0.29370617866516113)\n"
       ]
      },
      {
       "output_type": "stream",
       "stream": "stdout",
       "text": [
        "('Analyze: Frequency =', 50.008773911859002, 'measured in', 0.2622849941253662)\n",
        "('Analyze: Frequency =', 50.009329013402429, 'measured in', 0.29241108894348145)\n"
       ]
      },
      {
       "output_type": "stream",
       "stream": "stdout",
       "text": [
        "('Analyze: Frequency =', 50.010188315419519, 'measured in', 0.2673070430755615)\n",
        "('Analyze: Frequency =', 50.010579213222613, 'measured in', 0.2747318744659424)"
       ]
      },
      {
       "output_type": "stream",
       "stream": "stdout",
       "text": [
        "\n",
        "('Analyze: Frequency =', 50.010514797708346, 'measured in', 0.30069684982299805)\n"
       ]
      },
      {
       "output_type": "stream",
       "stream": "stdout",
       "text": [
        "('Analyze: Frequency =', 50.010102463873949, 'measured in', 0.2888970375061035)\n",
        "('Analyze: Frequency =', 50.009767647583679, 'measured in', 0.3235790729522705)\n"
       ]
      },
      {
       "output_type": "stream",
       "stream": "stdout",
       "text": [
        "('Analyze: Frequency =', 50.00912897128584, 'measured in', 0.33429718017578125)\n",
        "('Capture', '* stopped recording')\n"
       ]
      },
      {
       "output_type": "stream",
       "stream": "stdout",
       "text": [
        "('Analyze: Frequency =', 50.008590856770631, 'measured in', 0.3664999008178711)\n",
        "('Analyze: Frequency =', 50.008718823239349, 'measured in', 0.33933186531066895)\n",
        "('Analyze', '* Finished measurements')\n"
       ]
      }
     ],
     "prompt_number": 8
    },
    {
     "cell_type": "code",
     "collapsed": false,
     "input": [],
     "language": "python",
     "metadata": {},
     "outputs": [],
     "prompt_number": 9
    }
   ],
   "metadata": {}
  }
 ]
}