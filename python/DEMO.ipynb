{
 "metadata": {
  "name": "",
  "signature": "sha256:a77a0b52976adb37dfa63dd950b0da8142fe70d14140b818624b2ecb0e3b8713"
 },
 "nbformat": 3,
 "nbformat_minor": 0,
 "worksheets": [
  {
   "cells": [
    {
     "cell_type": "code",
     "collapsed": false,
     "input": [
      "from scipy.optimize import leastsq\n",
      "#from scipy.io import wavfile\n",
      "import numpy as np\n",
      "from numpy import sin, pi\n",
      "\n",
      "import alsaaudio\n",
      "import numexpr as ne\n",
      "\n",
      "import threading\n",
      "from __future__ import with_statement\n",
      "\n",
      "import sys\n",
      "import array\n",
      "import time\n",
      "import ntplib\n",
      "\n",
      "#import matplotlib.pyplot as plt"
     ],
     "language": "python",
     "metadata": {},
     "outputs": [],
     "prompt_number": 1
    },
    {
     "cell_type": "code",
     "collapsed": false,
     "input": [
      "MEASURMENT_DURATION = 1\n",
      "#WAVE_OUTPUT_FILENAME = \"output.wav\"\n",
      "BUFFERMAXSIZE = 10 #seconds\n",
      "CHANNELS = 1\n",
      "INPUT_CHANNEL=2\n",
      "RATE = 24000\n",
      "INFORMAT    = alsaaudio.PCM_FORMAT_FLOAT_LE\n",
      "FRAMESIZE   = 512\n",
      "ne.set_num_threads(3)\n",
      "\n",
      "LOG_SIZE = 15"
     ],
     "language": "python",
     "metadata": {},
     "outputs": [],
     "prompt_number": 2
    },
    {
     "cell_type": "code",
     "collapsed": false,
     "input": [
      "# A multithreading compatible buffer. Tuned for maximum write_in performance\n",
      "\n",
      "#According to \n",
      "#https://stackoverflow.com/questions/7133885/fastest-way-to-grow-a-numpy-numeric-array\n",
      "# appending to python arrays is way faster than appending to numpy arrays.\n",
      "\n",
      "class Buffer():\n",
      "    def __init__(self, minSize, maxSize):\n",
      "        self.data = array.array('f')\n",
      "        self.lock = threading.Lock()\n",
      "        self.minSize = minSize\n",
      "        self.maxSize = maxSize\n",
      "\n",
      "    def extend(self,stream):\n",
      "        [length, string] = stream\n",
      "        if length > 0:\n",
      "            with self.lock:\n",
      "                self.data.fromstring(string)\n",
      "        \n",
      "    def get(self, length):        \n",
      "        with self.lock:\n",
      "            bufferSize = self.data.buffer_info()[1]\n",
      "            if bufferSize >= self.maxSize:\n",
      "                #shrink buffer\n",
      "                newdata = array.array('f')\n",
      "                iterator = (self.data[x] for x in range(bufferSize - self.minSize, bufferSize))\n",
      "                newdata.extend(iterator)\n",
      "                self.data = newdata\n",
      "                bufferSize = self.minSize\n",
      "        iterator = (self.data[x] for x in range(bufferSize-length, bufferSize))\n",
      "        return np.fromiter(iterator, dtype='f')"
     ],
     "language": "python",
     "metadata": {},
     "outputs": [],
     "prompt_number": 3
    },
    {
     "cell_type": "code",
     "collapsed": false,
     "input": [
      "# According to Wikipedia, NTP is capable of synchronizing clocks over the web with an error of 1ms. This should be sufficient.  \n",
      "\n",
      "class Log():\n",
      "    def __init__(self):\n",
      "        self.offset = self.getoffset()\n",
      "        print(\"The clock is \", self.offset, \"seconds wrong. Changing timestamps\")\n",
      "        self.data = np.zeros([LOG_SIZE,2],dtype='d')\n",
      "        self.index =0\n",
      "        \n",
      "    \n",
      "    def getoffset(self):\n",
      "        c = ntplib.NTPClient()\n",
      "        response = c.request('europe.pool.ntp.org', version=3)\n",
      "        return response.offset\n",
      "\n",
      "    def store(self,frequency, calculationTime):\n",
      "        currTime = time.time() +self.offset- calculationTime - MEASURMENT_DURATION/2\n",
      "        self.data[self.index] =  [currTime, frequency]\n",
      "        print(time.ctime(self.data[self.index,0]), self.data[self.index,1])\n",
      "        self.index += 1\n",
      "        if self.index>=LOG_SIZE:\n",
      "            # send it to Netzsinus\n",
      "            # for now reset the the log\n",
      "            print(\"========= 'sending' the logfile. Dummymessage ========= \")\n",
      "            self.data = np.zeros([LOG_SIZE,2],dtype='d')\n",
      "            self.index =0\n",
      "            self.offset=self.getoffset()"
     ],
     "language": "python",
     "metadata": {},
     "outputs": [],
     "prompt_number": 4
    },
    {
     "cell_type": "code",
     "collapsed": false,
     "input": [
      "class Capture_Hum (threading.Thread):\n",
      "    def __init__(self, threadID, name, buffer, stopSignal):\n",
      "        threading.Thread.__init__(self)\n",
      "        self.threadID = threadID\n",
      "        self.name = name\n",
      "        self.buffer= buffer\n",
      "        self.stopSignal = stopSignal\n",
      "\n",
      "    def run(self):\n",
      "        recorder=alsaaudio.PCM(alsaaudio.PCM_CAPTURE,\n",
      "                       alsaaudio.PCM_NORMAL, \n",
      "                       u'sysdefault:CARD=Device')\n",
      "        recorder.setchannels(CHANNELS)\n",
      "        recorder.setrate(RATE)\n",
      "        recorder.setformat(INFORMAT)\n",
      "        recorder.setperiodsize(FRAMESIZE)\n",
      " \n",
      "\n",
      "        print(self.name ,\"* started recording\")\n",
      "        try:\n",
      "            while (not self.stopSignal.is_set()):\n",
      "            #for i in range(0, int(RATE / FRAMESIZE * self.seconds)):\n",
      "                self.buffer.extend(recorder.read())\n",
      "        except Exception,e:\n",
      "            print(self.name ,str(e))\n",
      "        print(self.name ,\"* stopped recording\")"
     ],
     "language": "python",
     "metadata": {},
     "outputs": [],
     "prompt_number": 5
    },
    {
     "cell_type": "code",
     "collapsed": false,
     "input": [
      "class Analyze_Hum(threading.Thread):\n",
      "    def __init__(self, threadID, name, buffer,log, stopSignal):\n",
      "        threading.Thread.__init__(self)\n",
      "        self.threadID = threadID\n",
      "        self.name = name\n",
      "        self.buffer= buffer\n",
      "        self.log = log\n",
      "        self.stopSignal = stopSignal\n",
      "    \n",
      "    def run(self):\n",
      "        def residuals(p,x,y):\n",
      "            A, k, theta = p\n",
      "            x = x\n",
      "            y = y\n",
      "            err = ne.evaluate('y - A * sin(2 * pi * k * x + theta)')\n",
      "            #err = y - A * sin(2 * pi * k * x + theta)\n",
      "            return err\n",
      "        \n",
      "        print(self.name ,\"* Started measurements\")\n",
      "        x = np.divide(np.arange(RATE*MEASURMENT_DURATION),np.array(RATE,dtype=float))\n",
      "        a = 0.2\n",
      "        b = 50\n",
      "        c = 0\n",
      "        \n",
      "        analyze_start = time.time()\n",
      "        number = 0;\n",
      "        totalTime = 0\n",
      "        #while time.time() - analyze_start < self.seconds:\n",
      "        while (not self.stopSignal.is_set()):\n",
      "            start_time = time.time()\n",
      "            y = self.buffer.get(RATE*MEASURMENT_DURATION)\n",
      "            plsq = leastsq(residuals, np.array([a,b,c]),args=(x,y))\n",
      "            took = time.time() - start_time\n",
      "            if np.abs(b-plsq[0][1]) < 0.1:\n",
      "                #sanitycheck\n",
      "                a = plsq[0][0]\n",
      "                b = plsq[0][1]\n",
      "                c = plsq[0][2]\n",
      "                number += 1\n",
      "                totalTime += took\n",
      "                log.store(b,took)\n",
      "                #print(\"Analyze: Frequency =\", b, \"measured in\", time.time() - start_time)\n",
      "            else:\n",
      "                print(\"Analyze: Mesurement seems to be faulty. Frequency changed for\", np.abs(b-plsq[0][1]))\n",
      "        print(self.name ,\"* Finished measurements, average measurement duration is\", totalTime/number)"
     ],
     "language": "python",
     "metadata": {},
     "outputs": [],
     "prompt_number": 9
    },
    {
     "cell_type": "code",
     "collapsed": false,
     "input": [
      "log = Log()\n",
      "databuffer = Buffer(RATE*MEASURMENT_DURATION, RATE*BUFFERMAXSIZE)\n",
      "stopSignal = threading.Event()\n",
      "capture = Capture_Hum(1,\"Capture\", databuffer, stopSignal)\n",
      "capture.start()\n",
      "\n",
      "time.sleep(MEASURMENT_DURATION+0.05)\n",
      "analyze = Analyze_Hum(2,\"Analyze\", databuffer,log, stopSignal)\n",
      "analyze.start()"
     ],
     "language": "python",
     "metadata": {},
     "outputs": [
      {
       "output_type": "stream",
       "stream": "stdout",
       "text": [
        "('The clock is ', 0.0004687309265136719, 'seconds wrong. Changing timestamps')\n",
        "('Capture', '* started recording')\n"
       ]
      },
      {
       "output_type": "stream",
       "stream": "stdout",
       "text": [
        "('Analyze', '* Started measurements')\n",
        "('Sat Jan 16 19:10:53 2016', 50.015512461936567)\n"
       ]
      },
      {
       "output_type": "stream",
       "stream": "stdout",
       "text": [
        "('Sat Jan 16 19:10:54 2016', 50.014277723813372)\n",
        "('Sat Jan 16 19:10:54 2016', 50.014698662635396)\n"
       ]
      },
      {
       "output_type": "stream",
       "stream": "stdout",
       "text": [
        "('Sat Jan 16 19:10:55 2016', 50.015299619199993)\n",
        "('Sat Jan 16 19:10:55 2016', 50.015918062050062)\n"
       ]
      },
      {
       "output_type": "stream",
       "stream": "stdout",
       "text": [
        "('Sat Jan 16 19:10:55 2016', 50.015933826910256)\n",
        "('Sat Jan 16 19:10:56 2016', 50.016905294091195)\n"
       ]
      },
      {
       "output_type": "stream",
       "stream": "stdout",
       "text": [
        "('Sat Jan 16 19:10:56 2016', 50.017587096758362)\n",
        "('Sat Jan 16 19:10:56 2016', 50.016506740016965)"
       ]
      },
      {
       "output_type": "stream",
       "stream": "stdout",
       "text": [
        "\n",
        "('Sat Jan 16 19:10:57 2016', 50.015960850963815)\n"
       ]
      },
      {
       "output_type": "stream",
       "stream": "stdout",
       "text": [
        "('Sat Jan 16 19:10:57 2016', 50.015513472457215)\n",
        "('Sat Jan 16 19:10:58 2016', 50.01564555489378)\n"
       ]
      },
      {
       "output_type": "stream",
       "stream": "stdout",
       "text": [
        "('Sat Jan 16 19:10:58 2016', 50.015298358093986)\n",
        "('Sat Jan 16 19:10:58 2016', 50.015927370444487)\n"
       ]
      },
      {
       "output_type": "stream",
       "stream": "stdout",
       "text": [
        "('Sat Jan 16 19:10:59 2016', 50.016410148464438)\n",
        "========= 'sending' the logfile. Dummymessage ========= \n",
        "('Sat Jan 16 19:10:59 2016', 50.016518328883222)\n"
       ]
      },
      {
       "output_type": "stream",
       "stream": "stdout",
       "text": [
        "('Sat Jan 16 19:11:00 2016', 50.017339099721973)\n",
        "('Sat Jan 16 19:11:00 2016', 50.017697238939959)\n"
       ]
      },
      {
       "output_type": "stream",
       "stream": "stdout",
       "text": [
        "('Sat Jan 16 19:11:00 2016', 50.018268832641731)\n",
        "('Sat Jan 16 19:11:01 2016', 50.01904333237178)\n"
       ]
      },
      {
       "output_type": "stream",
       "stream": "stdout",
       "text": [
        "('Sat Jan 16 19:11:01 2016', 50.019612311524121)\n",
        "('Sat Jan 16 19:11:01 2016', 50.019665374433508)\n"
       ]
      },
      {
       "output_type": "stream",
       "stream": "stdout",
       "text": [
        "('Sat Jan 16 19:11:02 2016', 50.020037611448785)\n",
        "('Sat Jan 16 19:11:02 2016', 50.020338660424081)\n"
       ]
      },
      {
       "output_type": "stream",
       "stream": "stdout",
       "text": [
        "('Sat Jan 16 19:11:02 2016', 50.020002147326039)\n",
        "('Sat Jan 16 19:11:03 2016', 50.020453287118052)\n"
       ]
      },
      {
       "output_type": "stream",
       "stream": "stdout",
       "text": [
        "('Sat Jan 16 19:11:03 2016', 50.019903828211191)\n",
        "('Sat Jan 16 19:11:04 2016', 50.02200980919249)\n"
       ]
      },
      {
       "output_type": "stream",
       "stream": "stdout",
       "text": [
        "('Sat Jan 16 19:11:04 2016', 50.022928024112638)\n",
        "('Sat Jan 16 19:11:04 2016', 50.022967032622546)\n",
        "========= 'sending' the logfile. Dummymessage ========= \n"
       ]
      },
      {
       "output_type": "stream",
       "stream": "stdout",
       "text": [
        "('Sat Jan 16 19:11:05 2016', 50.023263855304016)\n",
        "('Sat Jan 16 19:11:05 2016', 50.02272341391474)\n"
       ]
      },
      {
       "output_type": "stream",
       "stream": "stdout",
       "text": [
        "('Sat Jan 16 19:11:05 2016', 50.023241682685757)\n",
        "('Sat Jan 16 19:11:06 2016', 50.022321983246329)\n"
       ]
      },
      {
       "output_type": "stream",
       "stream": "stdout",
       "text": [
        "('Sat Jan 16 19:11:06 2016', 50.0222677015988)\n",
        "('Sat Jan 16 19:11:06 2016', 50.022781736569335)\n"
       ]
      },
      {
       "output_type": "stream",
       "stream": "stdout",
       "text": [
        "('Sat Jan 16 19:11:07 2016', 50.023808035911223)\n",
        "('Sat Jan 16 19:11:07 2016', 50.023964344512429)\n"
       ]
      },
      {
       "output_type": "stream",
       "stream": "stdout",
       "text": [
        "('Sat Jan 16 19:11:07 2016', 50.02394899529515)\n",
        "('Sat Jan 16 19:11:08 2016', 50.023339049104976)\n"
       ]
      },
      {
       "output_type": "stream",
       "stream": "stdout",
       "text": [
        "('Sat Jan 16 19:11:08 2016', 50.023585618251992)\n",
        "('Sat Jan 16 19:11:08 2016', 50.025877751874681)\n"
       ]
      },
      {
       "output_type": "stream",
       "stream": "stdout",
       "text": [
        "('Sat Jan 16 19:11:09 2016', 50.025916357284117)\n",
        "('Sat Jan 16 19:11:09 2016', 50.025154825842982)\n"
       ]
      },
      {
       "output_type": "stream",
       "stream": "stdout",
       "text": [
        "('Sat Jan 16 19:11:09 2016', 50.024361261511373)\n",
        "========= 'sending' the logfile. Dummymessage ========= \n",
        "('Sat Jan 16 19:11:10 2016', 50.024142005053001)\n"
       ]
      },
      {
       "output_type": "stream",
       "stream": "stdout",
       "text": [
        "('Sat Jan 16 19:11:10 2016', 50.023690424776099)\n",
        "('Sat Jan 16 19:11:10 2016', 50.023697699517989)\n"
       ]
      },
      {
       "output_type": "stream",
       "stream": "stdout",
       "text": [
        "('Sat Jan 16 19:11:11 2016', 50.023635523667231)\n",
        "('Sat Jan 16 19:11:11 2016', 50.025216699117664)\n"
       ]
      },
      {
       "output_type": "stream",
       "stream": "stdout",
       "text": [
        "('Sat Jan 16 19:11:12 2016', 50.025062973879486)\n",
        "('Sat Jan 16 19:11:12 2016', 50.025234520922979)\n"
       ]
      },
      {
       "output_type": "stream",
       "stream": "stdout",
       "text": [
        "('Analyze: Mesurement seems to be faulty. Frequency changed for', 0.11983448164085786)\n",
        "('Analyze: Mesurement seems to be faulty. Frequency changed for', 0.1598334002676367)\n"
       ]
      }
     ],
     "prompt_number": 12
    },
    {
     "cell_type": "code",
     "collapsed": false,
     "input": [
      "stopSignal.set()"
     ],
     "language": "python",
     "metadata": {},
     "outputs": [
      {
       "output_type": "stream",
       "stream": "stdout",
       "text": [
        "('Sat Jan 16 19:11:13 2016', 49.950028465040745)\n"
       ]
      },
      {
       "output_type": "stream",
       "stream": "stdout",
       "text": [
        "('Capture', '* stopped recording')\n",
        "('Sat Jan 16 19:11:14 2016', 50.022376216764151)\n",
        "('Analyze', '* Finished measurements, average measurement duration is', 0.3687911166085137)\n"
       ]
      }
     ],
     "prompt_number": 13
    },
    {
     "cell_type": "code",
     "collapsed": false,
     "input": [],
     "language": "python",
     "metadata": {},
     "outputs": [],
     "prompt_number": 13
    },
    {
     "cell_type": "code",
     "collapsed": false,
     "input": [],
     "language": "python",
     "metadata": {},
     "outputs": []
    }
   ],
   "metadata": {}
  }
 ]
}