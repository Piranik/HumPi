{
 "metadata": {
  "name": "",
  "signature": "sha256:ac2e674df173327183fe4316b2b94586821b04b95c2364c43f2cb202adeb43f6"
 },
 "nbformat": 3,
 "nbformat_minor": 0,
 "worksheets": [
  {
   "cells": [
    {
     "cell_type": "code",
     "collapsed": false,
     "input": [
      "from scipy.optimize import leastsq\n",
      "from scipy.io import wavfile\n",
      "import numpy as np\n",
      "from numpy import sin, pi\n",
      "\n",
      "import alsaaudio\n",
      "import numexpr as ne\n",
      "\n",
      "import threading\n",
      "from __future__ import with_statement\n",
      "\n",
      "import sys\n",
      "import array\n",
      "import time\n",
      "\n",
      "import matplotlib.pyplot as plt"
     ],
     "language": "python",
     "metadata": {},
     "outputs": [],
     "prompt_number": 1
    },
    {
     "cell_type": "code",
     "collapsed": false,
     "input": [
      "RECORD_SECONDS = 10\n",
      "MEASURMENT_DURATION = 0.5\n",
      "WAVE_OUTPUT_FILENAME = \"output.wav\"\n",
      "CHANNELS = 1\n",
      "INPUT_CHANNEL=2\n",
      "RATE = 44100\n",
      "INFORMAT    = alsaaudio.PCM_FORMAT_FLOAT_LE\n",
      "FRAMESIZE   = 256\n",
      "ne.set_num_threads(3)"
     ],
     "language": "python",
     "metadata": {},
     "outputs": [
      {
       "metadata": {},
       "output_type": "pyout",
       "prompt_number": 3,
       "text": [
        "3"
       ]
      }
     ],
     "prompt_number": 3
    },
    {
     "cell_type": "code",
     "collapsed": false,
     "input": [
      "\n",
      "\n",
      "# This is a multithreading compatible buffer for a single producer and a single consumer.\n",
      "# It ensures that the producer gets writeblocked as less as possible. \n",
      "# The data is stored in two different arrays. The producer pours his data in the \n",
      "# self.leftdata array iff self.left = True, and in self.rightdata otherwise. \n",
      "\n",
      "#According to \n",
      "#https://stackoverflow.com/questions/7133885/fastest-way-to-grow-a-numpy-numeric-array\n",
      "# appending to python arrays is way faster than appending to numpy arrays.\n",
      "\n",
      "class Buffer():\n",
      "    def __init__(self, length):\n",
      "        self.leftdata = array.array('f')\n",
      "        self.rightdata = array.array('f')\n",
      "        self.buffer = array.array('f')\n",
      "        self.left = False\n",
      "        self.lock = threading.Lock()\n",
      "        self.minLength = length\n",
      "\n",
      "    def extend(self,stream):\n",
      "        [length, string] = stream\n",
      "        if length > 0:\n",
      "            with self.lock:\n",
      "                if self.left:\n",
      "                    self.leftdata.fromstring(string)\n",
      "                else: \n",
      "                    self.rightdata.fromstring(string)\n",
      "        #else:\n",
      "            #self.test = array.array('f')\n",
      "            #self.test.fromstring(string)\n",
      "            #print(\"Capture\", length, self.test)\n",
      "        \n",
      "    def get(self, length):        \n",
      "        with self.lock:\n",
      "            if self.left:\n",
      "                self.data = self.leftdata\n",
      "                self.leftdata =  array.array('f')\n",
      "            else:\n",
      "                self.data = self.rightdata\n",
      "                self.rightdata =  array.array('f')\n",
      "            self.left = not self.left\n",
      "\n",
      "        if self.minLength <= self.data.buffer_info()[1]:\n",
      "            self.buffer = self.data\n",
      "        else:\n",
      "            self.buffer.extend(self.data);\n",
      "        \n",
      "        self.buffer.reverse()\n",
      "        #print(\"PrePopSize\", self.buffer.buffer_info()[1])\n",
      "        while self.buffer.buffer_info()[1] > self.minLength:\n",
      "            self.buffer.pop()\n",
      "        #print(\"PostPopSize\", self.buffer.buffer_info()[1])\n",
      "        self.buffer.reverse()\n",
      "        if self.buffer.buffer_info()[1] == length:\n",
      "            #print(\"Capture\", \"Buffersize:\", self.buffer.buffer_info()[1])\n",
      "            return np.array(self.buffer, dtype='f')\n",
      "        else:\n",
      "            #print(\"Capture\", \"Buffersize:\", self.buffer.buffer_info()[1], length)\n",
      "            return np.array(self.buffer, dtype='f')[:length]\n"
     ],
     "language": "python",
     "metadata": {},
     "outputs": [],
     "prompt_number": 4
    },
    {
     "cell_type": "code",
     "collapsed": false,
     "input": [
      "class capture_hum (threading.Thread):\n",
      "    def __init__(self, threadID, name, seconds, buffer):\n",
      "        threading.Thread.__init__(self)\n",
      "        self.threadID = threadID\n",
      "        self.name = name\n",
      "        self.seconds = seconds\n",
      "        self.buffer= buffer\n",
      "    def run(self):\n",
      "#def capture_hum(seconds, buffer):\n",
      "        recorder=alsaaudio.PCM(alsaaudio.PCM_CAPTURE,\n",
      "                       alsaaudio.PCM_NORMAL, \n",
      "                       u'sysdefault:CARD=Device')\n",
      "        recorder.setchannels(CHANNELS)\n",
      "        recorder.setrate(RATE)\n",
      "        recorder.setformat(INFORMAT)\n",
      "        recorder.setperiodsize(FRAMESIZE)\n",
      " \n",
      "\n",
      "        print(self.name ,\"* started recording\")\n",
      "        try:\n",
      "            for i in range(0, int(RATE / FRAMESIZE * self.seconds)):\n",
      "                self.buffer.extend(recorder.read())\n",
      "        except Exception,e:\n",
      "            print(self.name ,str(e))\n",
      "        print(self.name ,\"* stopped recording\")"
     ],
     "language": "python",
     "metadata": {},
     "outputs": [],
     "prompt_number": 5
    },
    {
     "cell_type": "code",
     "collapsed": false,
     "input": [
      "class analyze_hum(threading.Thread):\n",
      "    def __init__(self, threadID, name, seconds, buffer):\n",
      "        threading.Thread.__init__(self)\n",
      "        self.threadID = threadID\n",
      "        self.name = name\n",
      "        self.seconds = seconds\n",
      "        self.buffer= buffer\n",
      "    \n",
      "    def run(self):\n",
      "#def analyze_hum(seconds, buffer):\n",
      "        def residuals(p,x,y):\n",
      "            A, k, theta = p\n",
      "            x = x\n",
      "            y = y\n",
      "            #err = ne.evaluate('y - A * sin(2 * pi * k * x + theta)')\n",
      "            err = y - A * sin(2 * pi * k * x + theta)\n",
      "            return err\n",
      "        \n",
      "        print(self.name ,\"* Started measurements\")\n",
      "        x = np.divide(np.arange(RATE*MEASURMENT_DURATION),np.array(RATE,dtype=float))\n",
      "        a = 0.2\n",
      "        b = 50\n",
      "        c = 0\n",
      "        for i in range(int(self.seconds/MEASURMENT_DURATION)):\n",
      "            y = self.buffer.get(RATE*MEASURMENT_DURATION)\n",
      "            start_time = time.time()\n",
      "            plsq = leastsq(residuals, np.array([a,b,c]),args=(x,y))\n",
      "            a = plsq[0][0]\n",
      "            b = plsq[0][1]\n",
      "            c = plsq[0][2]\n",
      "            #print(a,b,c, \"measured in\", time.time() - start_time)\n",
      "            print(\"Frequency =\", b, \"measured in\", time.time() - start_time)\n",
      "        plt.plot(y)\n",
      "        plt.show()\n",
      "        print(self.name ,\"* Finished measurements\")"
     ],
     "language": "python",
     "metadata": {},
     "outputs": [],
     "prompt_number": 6
    },
    {
     "cell_type": "code",
     "collapsed": false,
     "input": [
      "databuffer = Buffer(RATE*MEASURMENT_DURATION)\n",
      "capture = capture_hum(1,\"Capture\", RECORD_SECONDS, databuffer)\n",
      "capture.start()\n",
      "\n",
      "time.sleep(MEASURMENT_DURATION+0.05)\n",
      "analyze = analyze_hum(2,\"Analyze\", RECORD_SECONDS-MEASURMENT_DURATION-1, databuffer)\n",
      "analyze.start()\n",
      "\n",
      "#capture.join()\n",
      "#analyze.join()"
     ],
     "language": "python",
     "metadata": {},
     "outputs": [
      {
       "output_type": "stream",
       "stream": "stdout",
       "text": [
        "('Capture', '* started recording')\n",
        "('Analyze', '* Started measurements')\n"
       ]
      },
      {
       "output_type": "stream",
       "stream": "stdout",
       "text": [
        "('Frequency =', 50.052165542702127, 'measured in', 0.40119194984436035)\n",
        "('Frequency =', 50.052880934338745, 'measured in', 0.4175379276275635)\n"
       ]
      },
      {
       "output_type": "stream",
       "stream": "stdout",
       "text": [
        "('Frequency =', 50.053118844628692, 'measured in', 0.7765209674835205)\n",
        "('Frequency =', 50.052565783792758, 'measured in', 0.3398418426513672)\n"
       ]
      },
      {
       "output_type": "stream",
       "stream": "stdout",
       "text": [
        "('Frequency =', 50.299748600358143, 'measured in', 0.3609428405761719)\n",
        "('Frequency =', 49.103070477239015, 'measured in', 0.536322832107544)\n"
       ]
      },
      {
       "output_type": "stream",
       "stream": "stdout",
       "text": [
        "('Frequency =', 50.049959923135035, 'measured in', 0.42624402046203613)\n",
        "('Frequency =', 50.050918011274454, 'measured in', 0.3437809944152832)\n"
       ]
      },
      {
       "output_type": "stream",
       "stream": "stdout",
       "text": [
        "('Frequency =', 50.052204119270684, 'measured in', 0.3870840072631836)\n",
        "('Frequency =', 49.252809766699329, 'measured in', 0.40868496894836426)\n"
       ]
      },
      {
       "output_type": "stream",
       "stream": "stdout",
       "text": [
        "('Frequency =', 49.528180279929423, 'measured in', 0.3867051601409912)\n",
        "('Frequency =', 47.838443421426483, 'measured in', 0.9647929668426514)\n"
       ]
      },
      {
       "output_type": "stream",
       "stream": "stdout",
       "text": [
        "('Frequency =', 47.193457557278663, 'measured in', 1.0041370391845703)\n",
        "('Frequency =', 47.186655945662139, 'measured in', 1.023684024810791)\n"
       ]
      },
      {
       "output_type": "stream",
       "stream": "stdout",
       "text": [
        "('Frequency =', 47.183101485928447, 'measured in', 0.7753639221191406)\n",
        "('Frequency =', 47.183288810027875, 'measured in', 0.3829991817474365)\n"
       ]
      },
      {
       "output_type": "stream",
       "stream": "stdout",
       "text": [
        "('Frequency =', 47.1820207078351, 'measured in', 0.7821440696716309)\n",
        "('Analyze', '* Finished measurements')\n"
       ]
      }
     ],
     "prompt_number": 7
    },
    {
     "cell_type": "code",
     "collapsed": false,
     "input": [],
     "language": "python",
     "metadata": {},
     "outputs": [],
     "prompt_number": 7
    },
    {
     "cell_type": "code",
     "collapsed": false,
     "input": [],
     "language": "python",
     "metadata": {},
     "outputs": [],
     "prompt_number": 7
    },
    {
     "cell_type": "code",
     "collapsed": false,
     "input": [],
     "language": "python",
     "metadata": {},
     "outputs": [],
     "prompt_number": 7
    },
    {
     "cell_type": "code",
     "collapsed": false,
     "input": [],
     "language": "python",
     "metadata": {},
     "outputs": []
    }
   ],
   "metadata": {}
  }
 ]
}