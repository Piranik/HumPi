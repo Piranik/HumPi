{
 "metadata": {
  "name": "",
  "signature": "sha256:b5a73243d5b3ac1d3f5f4f656397ec39d8c9280554afcc3ab23457584758ba8d"
 },
 "nbformat": 3,
 "nbformat_minor": 0,
 "worksheets": [
  {
   "cells": [
    {
     "cell_type": "code",
     "collapsed": false,
     "input": [
      "from scipy.optimize import leastsq\n",
      "#from scipy.io import wavfile\n",
      "import numpy as np\n",
      "from numpy import sin, pi\n",
      "\n",
      "import alsaaudio\n",
      "import numexpr as ne\n",
      "\n",
      "import threading\n",
      "from __future__ import with_statement\n",
      "\n",
      "import sys\n",
      "import array\n",
      "import time\n",
      "\n",
      "#import matplotlib.pyplot as plt"
     ],
     "language": "python",
     "metadata": {},
     "outputs": [],
     "prompt_number": 1
    },
    {
     "cell_type": "code",
     "collapsed": false,
     "input": [
      "RECORD_SECONDS = 10\n",
      "MEASURMENT_DURATION = 1\n",
      "#WAVE_OUTPUT_FILENAME = \"output.wav\"\n",
      "BUFFERMAXSIZE = 60 #seconds\n",
      "CHANNELS = 1\n",
      "INPUT_CHANNEL=2\n",
      "RATE = 24000\n",
      "INFORMAT    = alsaaudio.PCM_FORMAT_FLOAT_LE\n",
      "FRAMESIZE   = 512\n",
      "ne.set_num_threads(3)"
     ],
     "language": "python",
     "metadata": {},
     "outputs": [
      {
       "metadata": {},
       "output_type": "pyout",
       "prompt_number": 2,
       "text": [
        "4"
       ]
      }
     ],
     "prompt_number": 2
    },
    {
     "cell_type": "code",
     "collapsed": false,
     "input": [
      "# A multithreading compatible buffer. Tuned for maximum write_in performance\n",
      "\n",
      "#According to \n",
      "#https://stackoverflow.com/questions/7133885/fastest-way-to-grow-a-numpy-numeric-array\n",
      "# appending to python arrays is way faster than appending to numpy arrays.\n",
      "\n",
      "class Buffer():\n",
      "    def __init__(self, minSize, maxSize):\n",
      "        self.data = array.array('f')\n",
      "        self.lock = threading.Lock()\n",
      "        self.minSize = minSize\n",
      "        self.maxSize = maxSize\n",
      "\n",
      "    def extend(self,stream):\n",
      "        [length, string] = stream\n",
      "        if length > 0:\n",
      "            with self.lock:\n",
      "                self.data.fromstring(string)\n",
      "        \n",
      "    def get(self, length):        \n",
      "        with self.lock:\n",
      "            bufferSize = self.data.buffer_info()[1]\n",
      "            if bufferSize >= self.maxSize:\n",
      "                #shrink buffer\n",
      "                newdata = array.array('f')\n",
      "                iterator = (self.data[x] for x in range(bufferSize - self.minSize, bufferSize))\n",
      "                newdata.extend(iterator)\n",
      "                self.data = newdata\n",
      "        iterator = (self.data[x] for x in range(bufferSize-length, bufferSize))\n",
      "        return np.fromiter(iterator, dtype='f')"
     ],
     "language": "python",
     "metadata": {},
     "outputs": [],
     "prompt_number": 3
    },
    {
     "cell_type": "code",
     "collapsed": false,
     "input": [
      "class capture_hum (threading.Thread):\n",
      "    def __init__(self, threadID, name, seconds, buffer):\n",
      "        threading.Thread.__init__(self)\n",
      "        self.threadID = threadID\n",
      "        self.name = name\n",
      "        self.seconds = seconds\n",
      "        self.buffer= buffer\n",
      "\n",
      "    def run(self):\n",
      "        recorder=alsaaudio.PCM(alsaaudio.PCM_CAPTURE,\n",
      "                       alsaaudio.PCM_NORMAL, \n",
      "                       u'sysdefault:CARD=Device')\n",
      "        recorder.setchannels(CHANNELS)\n",
      "        recorder.setrate(RATE)\n",
      "        recorder.setformat(INFORMAT)\n",
      "        recorder.setperiodsize(FRAMESIZE)\n",
      " \n",
      "\n",
      "        print(self.name ,\"* started recording\")\n",
      "        try:\n",
      "            for i in range(0, int(RATE / FRAMESIZE * self.seconds)):\n",
      "                self.buffer.extend(recorder.read())\n",
      "        except Exception,e:\n",
      "            print(self.name ,str(e))\n",
      "        print(self.name ,\"* stopped recording\")"
     ],
     "language": "python",
     "metadata": {},
     "outputs": [],
     "prompt_number": 4
    },
    {
     "cell_type": "code",
     "collapsed": false,
     "input": [
      "class analyze_hum(threading.Thread):\n",
      "    def __init__(self, threadID, name, seconds, buffer):\n",
      "        threading.Thread.__init__(self)\n",
      "        self.threadID = threadID\n",
      "        self.name = name\n",
      "        self.seconds = seconds\n",
      "        self.buffer= buffer\n",
      "    \n",
      "    def run(self):\n",
      "        def residuals(p,x,y):\n",
      "            A, k, theta = p\n",
      "            x = x\n",
      "            y = y\n",
      "            err = ne.evaluate('y - A * sin(2 * pi * k * x + theta)')\n",
      "            #err = y - A * sin(2 * pi * k * x + theta)\n",
      "            return err\n",
      "        \n",
      "        print(self.name ,\"* Started measurements\")\n",
      "        x = np.divide(np.arange(RATE*MEASURMENT_DURATION),np.array(RATE,dtype=float))\n",
      "        a = 0.2\n",
      "        b = 50\n",
      "        c = 0\n",
      "        \n",
      "        analyze_start = time.time()\n",
      "        number = 0;\n",
      "        totalTime = 0\n",
      "        while time.time() - analyze_start < self.seconds:\n",
      "            start_time = time.time()\n",
      "            y = self.buffer.get(RATE*MEASURMENT_DURATION)\n",
      "            plsq = leastsq(residuals, np.array([a,b,c]),args=(x,y))\n",
      "            a = plsq[0][0]\n",
      "            b = plsq[0][1]\n",
      "            c = plsq[0][2]\n",
      "            number += 1\n",
      "            totalTime += time.time() - start_time\n",
      "            print(\"Analyze: Frequency =\", b, \"measured in\", time.time() - start_time)\n",
      "        print(self.name ,\"* Finished measurements, average measurement duration is\", totalTime/number)"
     ],
     "language": "python",
     "metadata": {},
     "outputs": [],
     "prompt_number": 9
    },
    {
     "cell_type": "code",
     "collapsed": false,
     "input": [
      "databuffer = Buffer(RATE*MEASURMENT_DURATION, RATE*BUFFERMAXSIZE)\n",
      "capture = capture_hum(1,\"Capture\", RECORD_SECONDS, databuffer)\n",
      "capture.start()\n",
      "\n",
      "time.sleep(MEASURMENT_DURATION+0.05)\n",
      "analyze = analyze_hum(2,\"Analyze\", RECORD_SECONDS-MEASURMENT_DURATION, databuffer)\n",
      "analyze.start()"
     ],
     "language": "python",
     "metadata": {},
     "outputs": [
      {
       "output_type": "stream",
       "stream": "stdout",
       "text": [
        "('Capture', '* started recording')\n",
        "('Analyze', '* Started measurements')\n"
       ]
      },
      {
       "output_type": "stream",
       "stream": "stdout",
       "text": [
        "('Analyze: Frequency =', 50.011934965624292, 'measured in', 0.6673610210418701)\n",
        "('Analyze: Frequency =', 50.012963420078016, 'measured in', 0.3205850124359131)\n"
       ]
      },
      {
       "output_type": "stream",
       "stream": "stdout",
       "text": [
        "('Analyze: Frequency =', 50.012305936405518, 'measured in', 0.2754020690917969)\n",
        "('Analyze: Frequency =', 50.011817655644656, 'measured in', 0.3042428493499756)\n"
       ]
      },
      {
       "output_type": "stream",
       "stream": "stdout",
       "text": [
        "('Analyze: Frequency =', 50.013026536927669, 'measured in', 0.3205299377441406)\n",
        "('Analyze: Frequency =', 50.014645528198663, 'measured in', 0.19597983360290527)\n"
       ]
      },
      {
       "output_type": "stream",
       "stream": "stdout",
       "text": [
        "('Analyze: Frequency =', 50.014970959592027, 'measured in', 0.5938310623168945)\n",
        "('Analyze: Frequency =', 50.016340135174197, 'measured in', 0.3329160213470459)\n"
       ]
      },
      {
       "output_type": "stream",
       "stream": "stdout",
       "text": [
        "('Analyze: Frequency =', 50.016817706834054, 'measured in', 0.2674078941345215)\n",
        "('Analyze: Frequency =', 50.0169543382898, 'measured in', 0.25896596908569336)\n"
       ]
      },
      {
       "output_type": "stream",
       "stream": "stdout",
       "text": [
        "('Analyze: Frequency =', 50.017082186056093, 'measured in', 0.35428810119628906)\n",
        "('Analyze: Frequency =', 50.01617804133754, 'measured in', 0.21465396881103516)\n"
       ]
      },
      {
       "output_type": "stream",
       "stream": "stdout",
       "text": [
        "('Analyze: Frequency =', 50.015538388207517, 'measured in', 0.5512049198150635)\n",
        "('Analyze: Frequency =', 50.014678436395386, 'measured in', 0.3924999237060547)\n"
       ]
      },
      {
       "output_type": "stream",
       "stream": "stdout",
       "text": [
        "('Analyze: Frequency =', 50.014839200163813, 'measured in', 0.4789588451385498)\n",
        "('Analyze: Frequency =', 50.015574279954201, 'measured in', 0.2536180019378662)\n"
       ]
      },
      {
       "output_type": "stream",
       "stream": "stdout",
       "text": [
        "('Analyze: Frequency =', 50.01612391479437, 'measured in', 0.3537769317626953)\n",
        "('Analyze: Frequency =', 50.016471019019242, 'measured in', 0.25919413566589355)\n"
       ]
      },
      {
       "output_type": "stream",
       "stream": "stdout",
       "text": [
        "('Analyze: Frequency =', 50.016792110391314, 'measured in', 0.3420839309692383)\n",
        "('Analyze: Frequency =', 50.016090012711373, 'measured in', 0.21291494369506836)"
       ]
      },
      {
       "output_type": "stream",
       "stream": "stdout",
       "text": [
        "\n",
        "('Analyze: Frequency =', 50.015176846704719, 'measured in', 0.5383660793304443)\n"
       ]
      },
      {
       "output_type": "stream",
       "stream": "stdout",
       "text": [
        "('Analyze: Frequency =', 50.012160862670918, 'measured in', 0.4476039409637451)\n",
        "('Analyze: Frequency =', 50.01060666263367, 'measured in', 0.2991969585418701)\n"
       ]
      },
      {
       "output_type": "stream",
       "stream": "stdout",
       "text": [
        "('Analyze: Frequency =', 50.009906024038521, 'measured in', 0.2833421230316162)"
       ]
      },
      {
       "output_type": "stream",
       "stream": "stdout",
       "text": [
        "\n",
        "('Capture', '* stopped recording')\n"
       ]
      },
      {
       "output_type": "stream",
       "stream": "stdout",
       "text": [
        "('Analyze: Frequency =', 50.009752580365465, 'measured in', 0.39538121223449707)\n",
        "('Analyze: Frequency =', 50.00970816199073, 'measured in', 0.3355679512023926)\n",
        "('Analyze', '* Finished measurements, average measurement duration is', 0.3557515052648691)\n"
       ]
      }
     ],
     "prompt_number": 10
    },
    {
     "cell_type": "code",
     "collapsed": false,
     "input": [],
     "language": "python",
     "metadata": {},
     "outputs": [],
     "prompt_number": 9
    }
   ],
   "metadata": {}
  }
 ]
}