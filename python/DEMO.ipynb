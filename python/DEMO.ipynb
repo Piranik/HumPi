{
 "metadata": {
  "name": "",
  "signature": "sha256:0a2847e9b672d45bee0440d5f8fcd7eb5775b5643e796bd591a7fa5f0bf2d08d"
 },
 "nbformat": 3,
 "nbformat_minor": 0,
 "worksheets": [
  {
   "cells": [
    {
     "cell_type": "code",
     "collapsed": false,
     "input": [
      "from scipy.optimize import leastsq\n",
      "#from scipy.io import wavfile\n",
      "import numpy as np\n",
      "from numpy import sin, pi\n",
      "\n",
      "import alsaaudio\n",
      "import numexpr as ne\n",
      "\n",
      "import threading\n",
      "from __future__ import with_statement\n",
      "\n",
      "import sys\n",
      "import array\n",
      "import time\n",
      "\n",
      "#import matplotlib.pyplot as plt"
     ],
     "language": "python",
     "metadata": {},
     "outputs": [],
     "prompt_number": 1
    },
    {
     "cell_type": "code",
     "collapsed": false,
     "input": [
      "RECORD_SECONDS = 10\n",
      "MEASURMENT_DURATION = 1\n",
      "#WAVE_OUTPUT_FILENAME = \"output.wav\"\n",
      "BUFFERMAXSIZE = 60 #seconds\n",
      "CHANNELS = 1\n",
      "INPUT_CHANNEL=2\n",
      "RATE = 22050\n",
      "INFORMAT    = alsaaudio.PCM_FORMAT_FLOAT_LE\n",
      "FRAMESIZE   = 256\n",
      "ne.set_num_threads(3)"
     ],
     "language": "python",
     "metadata": {},
     "outputs": [
      {
       "metadata": {},
       "output_type": "pyout",
       "prompt_number": 2,
       "text": [
        "4"
       ]
      }
     ],
     "prompt_number": 2
    },
    {
     "cell_type": "code",
     "collapsed": false,
     "input": [
      "# A multithreading compatible buffer. Tuned for maximum write_in performance\n",
      "\n",
      "#According to \n",
      "#https://stackoverflow.com/questions/7133885/fastest-way-to-grow-a-numpy-numeric-array\n",
      "# appending to python arrays is way faster than appending to numpy arrays.\n",
      "\n",
      "class Buffer():\n",
      "    def __init__(self, minSize, maxSize):\n",
      "        self.data = array.array('f')\n",
      "        self.lock = threading.Lock()\n",
      "        self.minSize = minSize\n",
      "        self.maxSize = maxSize\n",
      "\n",
      "    def extend(self,stream):\n",
      "        [length, string] = stream\n",
      "        if length > 0:\n",
      "            with self.lock:\n",
      "                self.data.fromstring(string)\n",
      "        \n",
      "    def get(self, length):        \n",
      "        with self.lock:\n",
      "            bufferSize = self.data.buffer_info()[1]\n",
      "            if bufferSize >= self.maxSize:\n",
      "                #shrink buffer\n",
      "                self.newdata = array.array('f')\n",
      "                iterator = (self.data[x] for x in range(bufferSize - self.minSize, bufferSize))\n",
      "                self.newdata.extend(iterator)\n",
      "                self.data = self.newdata\n",
      "            iterator = (self.data[x] for x in range(bufferSize-length, bufferSize))\n",
      "            return np.fromiter(iterator, dtype='f')"
     ],
     "language": "python",
     "metadata": {},
     "outputs": [],
     "prompt_number": 3
    },
    {
     "cell_type": "code",
     "collapsed": false,
     "input": [
      "class capture_hum (threading.Thread):\n",
      "    def __init__(self, threadID, name, seconds, buffer):\n",
      "        threading.Thread.__init__(self)\n",
      "        self.threadID = threadID\n",
      "        self.name = name\n",
      "        self.seconds = seconds\n",
      "        self.buffer= buffer\n",
      "    def run(self):\n",
      "#def capture_hum(seconds, buffer):\n",
      "        recorder=alsaaudio.PCM(alsaaudio.PCM_CAPTURE,\n",
      "                       alsaaudio.PCM_NORMAL, \n",
      "                       u'sysdefault:CARD=Device')\n",
      "        recorder.setchannels(CHANNELS)\n",
      "        recorder.setrate(RATE)\n",
      "        recorder.setformat(INFORMAT)\n",
      "        recorder.setperiodsize(FRAMESIZE)\n",
      " \n",
      "\n",
      "        print(self.name ,\"* started recording\")\n",
      "        try:\n",
      "            for i in range(0, int(RATE / FRAMESIZE * self.seconds)):\n",
      "                self.buffer.extend(recorder.read())\n",
      "        except Exception,e:\n",
      "            print(self.name ,str(e))\n",
      "        print(self.name ,\"* stopped recording\")"
     ],
     "language": "python",
     "metadata": {},
     "outputs": [],
     "prompt_number": 4
    },
    {
     "cell_type": "code",
     "collapsed": false,
     "input": [
      "class analyze_hum(threading.Thread):\n",
      "    def __init__(self, threadID, name, seconds, buffer):\n",
      "        threading.Thread.__init__(self)\n",
      "        self.threadID = threadID\n",
      "        self.name = name\n",
      "        self.seconds = seconds\n",
      "        self.buffer= buffer\n",
      "    \n",
      "    def run(self):\n",
      "#def analyze_hum(seconds, buffer):\n",
      "        def residuals(p,x,y):\n",
      "            A, k, theta = p\n",
      "            x = x\n",
      "            y = y\n",
      "            err = ne.evaluate('y - A * sin(2 * pi * k * x + theta)')\n",
      "            #err = y - A * sin(2 * pi * k * x + theta)\n",
      "            return err\n",
      "        \n",
      "        print(self.name ,\"* Started measurements\")\n",
      "        x = np.divide(np.arange(RATE*MEASURMENT_DURATION),np.array(RATE,dtype=float))\n",
      "        a = 0.2\n",
      "        b = 50\n",
      "        c = 0\n",
      "        #for i in range(int(self.seconds/MEASURMENT_DURATION)):\n",
      "        analyze_start = time.time()\n",
      "        while time.time() - analyze_start < self.seconds:\n",
      "            start_time = time.time()\n",
      "            y = self.buffer.get(RATE*MEASURMENT_DURATION)\n",
      "            plsq = leastsq(residuals, np.array([a,b,c]),args=(x,y))\n",
      "            a = plsq[0][0]\n",
      "            b = plsq[0][1]\n",
      "            c = plsq[0][2]\n",
      "            #print(a,b,c, \"measured in\", time.time() - start_time)\n",
      "            print(\"Frequency =\", b, \"measured in\", time.time() - start_time)\n",
      "        #plt.plot(y)\n",
      "        #plt.show()\n",
      "        print(self.name ,\"* Finished measurements\")"
     ],
     "language": "python",
     "metadata": {},
     "outputs": [],
     "prompt_number": 5
    },
    {
     "cell_type": "code",
     "collapsed": false,
     "input": [
      "databuffer = Buffer(RATE*MEASURMENT_DURATION,RATE*BUFFERMAXSIZE)\n",
      "capture = capture_hum(1,\"Capture\", RECORD_SECONDS, databuffer)\n",
      "capture.start()\n",
      "\n",
      "time.sleep(MEASURMENT_DURATION+0.05)\n",
      "analyze = analyze_hum(2,\"Analyze\", RECORD_SECONDS-MEASURMENT_DURATION-1, databuffer)\n",
      "analyze.start()\n",
      "\n",
      "#capture.join()\n",
      "#analyze.join()"
     ],
     "language": "python",
     "metadata": {},
     "outputs": [
      {
       "output_type": "stream",
       "stream": "stdout",
       "text": [
        "('Capture', '* started recording')\n",
        "('Analyze', '* Started measurements')\n"
       ]
      },
      {
       "output_type": "stream",
       "stream": "stdout",
       "text": [
        "('Frequency =', 50.055537646525281, 'measured in', 0.6306309700012207)\n",
        "('Frequency =', 50.055058547576742, 'measured in', 0.19624900817871094)\n"
       ]
      },
      {
       "output_type": "stream",
       "stream": "stdout",
       "text": [
        "('Frequency =', 50.055890330997308, 'measured in', 0.5094699859619141)\n",
        "('Frequency =', 50.056849956037603, 'measured in', 0.34109997749328613)\n"
       ]
      },
      {
       "output_type": "stream",
       "stream": "stdout",
       "text": [
        "('Frequency =', 50.056828956397155, 'measured in', 0.28456592559814453)\n",
        "('Frequency =', 50.057635980992636, 'measured in', 0.23888802528381348)\n"
       ]
      },
      {
       "output_type": "stream",
       "stream": "stdout",
       "text": [
        "('Frequency =', 50.057838515619416, 'measured in', 0.45363306999206543)\n"
       ]
      },
      {
       "output_type": "stream",
       "stream": "stdout",
       "text": [
        "('Frequency =', 50.055161402163243, 'measured in', 0.31958794593811035)\n",
        "('Frequency =', 50.05499963663528, 'measured in', 0.19278311729431152)\n"
       ]
      },
      {
       "output_type": "stream",
       "stream": "stdout",
       "text": [
        "('Frequency =', 50.055329837607502, 'measured in', 0.3545670509338379)\n",
        "('Frequency =', 50.054895804919852, 'measured in', 0.1961960792541504)\n"
       ]
      },
      {
       "output_type": "stream",
       "stream": "stdout",
       "text": [
        "('Frequency =', 50.054177947888768, 'measured in', 0.5086548328399658)\n",
        "('Frequency =', 50.053463865338344, 'measured in', 0.23083209991455078)\n"
       ]
      },
      {
       "output_type": "stream",
       "stream": "stdout",
       "text": [
        "('Frequency =', 50.054827922107215, 'measured in', 0.4286680221557617)\n",
        "('Frequency =', 50.05447973465067, 'measured in', 0.39272189140319824)\n"
       ]
      },
      {
       "output_type": "stream",
       "stream": "stdout",
       "text": [
        "('Frequency =', 50.054572506591136, 'measured in', 0.44372010231018066)\n",
        "('Frequency =', 50.054855837762297, 'measured in', 0.28068089485168457)\n"
       ]
      },
      {
       "output_type": "stream",
       "stream": "stdout",
       "text": [
        "('Frequency =', 50.053962692194212, 'measured in', 0.2946958541870117)\n",
        "('Frequency =', 50.053349956839291, 'measured in', 0.21165895462036133)\n"
       ]
      },
      {
       "output_type": "stream",
       "stream": "stdout",
       "text": [
        "('Frequency =', 50.053608532611335, 'measured in', 0.5111260414123535)\n",
        "('Frequency =', 50.052907152507593, 'measured in', 0.26955580711364746)\n"
       ]
      },
      {
       "output_type": "stream",
       "stream": "stdout",
       "text": [
        "('Frequency =', 50.052597565566806, 'measured in', 0.3882710933685303)\n",
        "('Frequency =', 50.052032695005302, 'measured in', 0.3616020679473877)\n",
        "('Analyze', '* Finished measurements')\n"
       ]
      }
     ],
     "prompt_number": 6
    },
    {
     "cell_type": "code",
     "collapsed": false,
     "input": [],
     "language": "python",
     "metadata": {},
     "outputs": [
      {
       "output_type": "stream",
       "stream": "stdout",
       "text": [
        "('Capture', '* stopped recording')\n"
       ]
      }
     ],
     "prompt_number": 6
    }
   ],
   "metadata": {}
  }
 ]
}