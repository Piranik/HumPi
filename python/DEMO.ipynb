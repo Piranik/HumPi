{
 "metadata": {
  "name": "",
  "signature": "sha256:4b9ef61e94dbd694bfaa7570e5ef1b1caf12760622151a7732e19bc6582668ee"
 },
 "nbformat": 3,
 "nbformat_minor": 0,
 "worksheets": [
  {
   "cells": [
    {
     "cell_type": "code",
     "collapsed": false,
     "input": [
      "from scipy.optimize import leastsq\n",
      "#from scipy.io import wavfile\n",
      "import numpy as np\n",
      "from numpy import sin, pi\n",
      "\n",
      "import alsaaudio\n",
      "import numexpr as ne\n",
      "\n",
      "import threading\n",
      "from __future__ import with_statement\n",
      "\n",
      "import sys\n",
      "import array\n",
      "import time\n",
      "import ntplib\n",
      "\n",
      "#import matplotlib.pyplot as plt"
     ],
     "language": "python",
     "metadata": {},
     "outputs": [],
     "prompt_number": 1
    },
    {
     "cell_type": "code",
     "collapsed": false,
     "input": [
      "MEASURMENT_DURATION = 1\n",
      "#WAVE_OUTPUT_FILENAME = \"output.wav\"\n",
      "BUFFERMAXSIZE = 10 #seconds\n",
      "CHANNELS = 1\n",
      "INPUT_CHANNEL=2\n",
      "RATE = 24000\n",
      "INFORMAT    = alsaaudio.PCM_FORMAT_FLOAT_LE\n",
      "FRAMESIZE   = 512\n",
      "ne.set_num_threads(3)\n",
      "\n",
      "LOG_SIZE = 15\n",
      "\n",
      "MEASUREMENTS_FILE = \"measurments.csv\""
     ],
     "language": "python",
     "metadata": {},
     "outputs": [],
     "prompt_number": 2
    },
    {
     "cell_type": "code",
     "collapsed": false,
     "input": [
      "# A multithreading compatible buffer. Tuned for maximum write_in performance\n",
      "\n",
      "#According to \n",
      "#https://stackoverflow.com/questions/7133885/fastest-way-to-grow-a-numpy-numeric-array\n",
      "# appending to python arrays is way faster than appending to numpy arrays.\n",
      "\n",
      "class Buffer():\n",
      "    def __init__(self, minSize, maxSize):\n",
      "        self.data = array.array('f')\n",
      "        self.lock = threading.Lock()\n",
      "        self.minSize = minSize\n",
      "        self.maxSize = maxSize\n",
      "\n",
      "    def extend(self,stream):\n",
      "        [length, string] = stream\n",
      "        if length > 0:\n",
      "            with self.lock:\n",
      "                self.data.fromstring(string)\n",
      "        \n",
      "    def get(self, length):        \n",
      "        with self.lock:\n",
      "            bufferSize = self.data.buffer_info()[1]\n",
      "            if bufferSize >= self.maxSize:\n",
      "                #shrink buffer\n",
      "                newdata = array.array('f')\n",
      "                iterator = (self.data[x] for x in range(bufferSize - self.minSize, bufferSize))\n",
      "                newdata.extend(iterator)\n",
      "                self.data = newdata\n",
      "                bufferSize = self.minSize\n",
      "        iterator = (self.data[x] for x in range(bufferSize-length, bufferSize))\n",
      "        return np.fromiter(iterator, dtype='f')"
     ],
     "language": "python",
     "metadata": {},
     "outputs": [],
     "prompt_number": 3
    },
    {
     "cell_type": "code",
     "collapsed": false,
     "input": [
      "# According to Wikipedia, NTP is capable of synchronizing clocks over the web with an error of 1ms. This should be sufficient.  \n",
      "\n",
      "class Log():\n",
      "    def __init__(self):\n",
      "        self.offset = self.getoffset()\n",
      "        print(\"The clock is \", self.offset, \"seconds wrong. Changing timestamps\")\n",
      "        self.data = np.zeros([LOG_SIZE,2],dtype='d')\n",
      "        self.index =0\n",
      "        \n",
      "    \n",
      "    def getoffset(self):\n",
      "        c = ntplib.NTPClient()\n",
      "        response = c.request('europe.pool.ntp.org', version=3)\n",
      "        return response.offset\n",
      "\n",
      "    def store(self,frequency, calculationTime):\n",
      "        currTime = time.time() +self.offset- calculationTime - MEASURMENT_DURATION/2\n",
      "        self.data[self.index] =  [currTime, frequency]\n",
      "        print(time.ctime(self.data[self.index,0]), self.data[self.index,1])\n",
      "        self.index += 1\n",
      "        if self.index>=LOG_SIZE:\n",
      "            # send it to Netzsinus\n",
      "            # for now reset the the log\n",
      "            print(\"========= Storing logfile ========= \")\n",
      "            with open(MEASUREMENTS_FILE, 'a') as f:\n",
      "                np.savetxt(f, self.data,delimiter=\",\")\n",
      "            self.data = np.zeros([LOG_SIZE,2],dtype='d')\n",
      "            self.index =0\n",
      "            self.offset=self.getoffset()"
     ],
     "language": "python",
     "metadata": {},
     "outputs": [],
     "prompt_number": 9
    },
    {
     "cell_type": "code",
     "collapsed": false,
     "input": [
      "class Capture_Hum (threading.Thread):\n",
      "    def __init__(self, threadID, name, buffer, stopSignal):\n",
      "        threading.Thread.__init__(self)\n",
      "        self.threadID = threadID\n",
      "        self.name = name\n",
      "        self.buffer= buffer\n",
      "        self.stopSignal = stopSignal\n",
      "\n",
      "    def run(self):\n",
      "        recorder=alsaaudio.PCM(alsaaudio.PCM_CAPTURE,\n",
      "                       alsaaudio.PCM_NORMAL, \n",
      "                       u'sysdefault:CARD=Device')\n",
      "        recorder.setchannels(CHANNELS)\n",
      "        recorder.setrate(RATE)\n",
      "        recorder.setformat(INFORMAT)\n",
      "        recorder.setperiodsize(FRAMESIZE)\n",
      " \n",
      "\n",
      "        print(self.name ,\"* started recording\")\n",
      "        try:\n",
      "            while (not self.stopSignal.is_set()):\n",
      "            #for i in range(0, int(RATE / FRAMESIZE * self.seconds)):\n",
      "                self.buffer.extend(recorder.read())\n",
      "        except Exception,e:\n",
      "            print(self.name ,str(e))\n",
      "        print(self.name ,\"* stopped recording\")"
     ],
     "language": "python",
     "metadata": {},
     "outputs": [],
     "prompt_number": 10
    },
    {
     "cell_type": "code",
     "collapsed": false,
     "input": [
      "class Analyze_Hum(threading.Thread):\n",
      "    def __init__(self, threadID, name, buffer,log, stopSignal):\n",
      "        threading.Thread.__init__(self)\n",
      "        self.threadID = threadID\n",
      "        self.name = name\n",
      "        self.buffer= buffer\n",
      "        self.log = log\n",
      "        self.stopSignal = stopSignal\n",
      "    \n",
      "    def run(self):\n",
      "        def residuals(p,x,y):\n",
      "            A, k, theta = p\n",
      "            x = x\n",
      "            y = y\n",
      "            err = ne.evaluate('y - A * sin(2 * pi * k * x + theta)')\n",
      "            #err = y - A * sin(2 * pi * k * x + theta)\n",
      "            return err\n",
      "        \n",
      "        print(self.name ,\"* Started measurements\")\n",
      "        x = np.divide(np.arange(RATE*MEASURMENT_DURATION),np.array(RATE,dtype=float))\n",
      "        a = 0.2\n",
      "        b = 50\n",
      "        c = 0\n",
      "        \n",
      "        analyze_start = time.time()\n",
      "        number = 0;\n",
      "        totalTime = 0\n",
      "        #while time.time() - analyze_start < self.seconds:\n",
      "        while (not self.stopSignal.is_set()):\n",
      "            start_time = time.time()\n",
      "            y = self.buffer.get(RATE*MEASURMENT_DURATION)\n",
      "            plsq = leastsq(residuals, np.array([a,b,c]),args=(x,y))\n",
      "            took = time.time() - start_time\n",
      "            if np.abs(b-plsq[0][1]) < 0.1:\n",
      "                #sanitycheck\n",
      "                a = plsq[0][0]\n",
      "                b = plsq[0][1]\n",
      "                c = plsq[0][2]\n",
      "                number += 1\n",
      "                totalTime += took\n",
      "                log.store(b,took)\n",
      "                #print(\"Analyze: Frequency =\", b, \"measured in\", time.time() - start_time)\n",
      "            else:\n",
      "                print(\"Analyze: Mesurement seems to be faulty. Frequency changed for\", np.abs(b-plsq[0][1]))\n",
      "        print(self.name ,\"* Finished measurements, average measurement duration is\", totalTime/number)"
     ],
     "language": "python",
     "metadata": {},
     "outputs": [],
     "prompt_number": 11
    },
    {
     "cell_type": "code",
     "collapsed": false,
     "input": [
      "log = Log()\n",
      "databuffer = Buffer(RATE*MEASURMENT_DURATION, RATE*BUFFERMAXSIZE)\n",
      "stopSignal = threading.Event()\n",
      "capture = Capture_Hum(1,\"Capture\", databuffer, stopSignal)\n",
      "capture.start()\n",
      "\n",
      "time.sleep(MEASURMENT_DURATION+0.05)\n",
      "analyze = Analyze_Hum(2,\"Analyze\", databuffer,log, stopSignal)\n",
      "analyze.start()"
     ],
     "language": "python",
     "metadata": {},
     "outputs": [
      {
       "output_type": "stream",
       "stream": "stdout",
       "text": [
        "('The clock is ', 0.0033104419708251953, 'seconds wrong. Changing timestamps')\n",
        "('Capture', '* started recording')\n",
        "('Analyze', '* Started measurements')\n"
       ]
      },
      {
       "output_type": "stream",
       "stream": "stdout",
       "text": [
        "('Sun Jan 17 08:12:49 2016', 50.013205666142731)\n",
        "('Sun Jan 17 08:12:49 2016', 50.01487038488532)"
       ]
      },
      {
       "output_type": "stream",
       "stream": "stdout",
       "text": [
        "\n",
        "('Sun Jan 17 08:12:49 2016', 50.014547274433639)\n"
       ]
      },
      {
       "output_type": "stream",
       "stream": "stdout",
       "text": [
        "('Sun Jan 17 08:12:50 2016', 50.015615806610981)\n",
        "('Sun Jan 17 08:12:50 2016', 50.015903672343761)\n"
       ]
      },
      {
       "output_type": "stream",
       "stream": "stdout",
       "text": [
        "('Sun Jan 17 08:12:51 2016', 50.015194041104756)\n",
        "('Sun Jan 17 08:12:51 2016', 50.01482851098546)\n"
       ]
      },
      {
       "output_type": "stream",
       "stream": "stdout",
       "text": [
        "('Sun Jan 17 08:12:51 2016', 50.014951839734778)\n",
        "('Sun Jan 17 08:12:52 2016', 50.015377374657206)\n"
       ]
      },
      {
       "output_type": "stream",
       "stream": "stdout",
       "text": [
        "('Sun Jan 17 08:12:52 2016', 50.016372565394569)\n",
        "('Sun Jan 17 08:12:52 2016', 50.017692889385273)\n"
       ]
      },
      {
       "output_type": "stream",
       "stream": "stdout",
       "text": [
        "('Sun Jan 17 08:12:53 2016', 50.018592239924047)\n",
        "('Sun Jan 17 08:12:53 2016', 50.01886142510844)\n"
       ]
      },
      {
       "output_type": "stream",
       "stream": "stdout",
       "text": [
        "('Sun Jan 17 08:12:54 2016', 50.018897775135663)\n",
        "('Sun Jan 17 08:12:54 2016', 50.018912519681926)\n",
        "========= Storing logfile ========= \n"
       ]
      },
      {
       "output_type": "stream",
       "stream": "stdout",
       "text": [
        "('Sun Jan 17 08:12:55 2016', 50.020069291186168)\n",
        "('Sun Jan 17 08:12:55 2016', 50.019904386408335)\n"
       ]
      },
      {
       "output_type": "stream",
       "stream": "stdout",
       "text": [
        "('Sun Jan 17 08:12:55 2016', 50.019879769420349)\n",
        "('Sun Jan 17 08:12:56 2016', 50.021283012380295)\n"
       ]
      },
      {
       "output_type": "stream",
       "stream": "stdout",
       "text": [
        "('Sun Jan 17 08:12:56 2016', 50.020770875490747)\n",
        "('Sun Jan 17 08:12:57 2016', 50.019333794465943)\n"
       ]
      },
      {
       "output_type": "stream",
       "stream": "stdout",
       "text": [
        "('Sun Jan 17 08:12:57 2016', 50.020499390570997)\n",
        "('Sun Jan 17 08:12:57 2016', 50.019865275289767)\n"
       ]
      },
      {
       "output_type": "stream",
       "stream": "stdout",
       "text": [
        "('Sun Jan 17 08:12:57 2016', 50.018437899241626)\n",
        "('Sun Jan 17 08:12:58 2016', 50.017119356373385)\n"
       ]
      },
      {
       "output_type": "stream",
       "stream": "stdout",
       "text": [
        "('Sun Jan 17 08:12:59 2016', 50.016291088291872)\n",
        "('Sun Jan 17 08:12:59 2016', 50.01978262455701)\n"
       ]
      },
      {
       "output_type": "stream",
       "stream": "stdout",
       "text": [
        "('Sun Jan 17 08:12:59 2016', 50.019371497497737)\n",
        "('Sun Jan 17 08:13:00 2016', 50.019084123960013)\n"
       ]
      },
      {
       "output_type": "stream",
       "stream": "stdout",
       "text": [
        "('Sun Jan 17 08:13:00 2016', 50.018822085094278)\n",
        "========= Storing logfile ========= \n",
        "('Sun Jan 17 08:13:00 2016', 50.018992313602311)"
       ]
      },
      {
       "output_type": "stream",
       "stream": "stdout",
       "text": [
        "\n",
        "('Sun Jan 17 08:13:01 2016', 50.018508807191168)\n"
       ]
      }
     ],
     "prompt_number": 12
    },
    {
     "cell_type": "code",
     "collapsed": false,
     "input": [
      "stopSignal.set()"
     ],
     "language": "python",
     "metadata": {},
     "outputs": [
      {
       "output_type": "stream",
       "stream": "stdout",
       "text": [
        "('Capture', '* stopped recording')\n",
        "('Sun Jan 17 08:13:01 2016', 50.017794454861651)\n",
        "('Analyze', '* Finished measurements, average measurement duration is', 0.39131565527482465)\n"
       ]
      }
     ],
     "prompt_number": 13
    },
    {
     "cell_type": "code",
     "collapsed": false,
     "input": [],
     "language": "python",
     "metadata": {},
     "outputs": [
      {
       "output_type": "stream",
       "stream": "stdout",
       "text": [
        "\n",
        "('Analyze', '* Finished measurements, average measurement duration is', 0.35244784504175186)\n"
       ]
      }
     ],
     "prompt_number": 8
    },
    {
     "cell_type": "code",
     "collapsed": false,
     "input": [],
     "language": "python",
     "metadata": {},
     "outputs": []
    }
   ],
   "metadata": {}
  }
 ]
}