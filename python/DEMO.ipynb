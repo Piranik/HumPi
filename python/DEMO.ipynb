{
 "metadata": {
  "name": "",
  "signature": "sha256:a6fc33f021908c64a4ced968b03cee170db1394206c6a2ba1bbd586fafa27ff0"
 },
 "nbformat": 3,
 "nbformat_minor": 0,
 "worksheets": [
  {
   "cells": [
    {
     "cell_type": "code",
     "collapsed": false,
     "input": [
      "from scipy.optimize import leastsq\n",
      "#from scipy.io import wavfile\n",
      "import numpy as np\n",
      "from numpy import sin, pi\n",
      "\n",
      "import alsaaudio\n",
      "import numexpr as ne\n",
      "\n",
      "import threading\n",
      "from __future__ import with_statement\n",
      "\n",
      "import sys\n",
      "import array\n",
      "import time\n",
      "import ntplib\n",
      "\n",
      "#import matplotlib.pyplot as plt"
     ],
     "language": "python",
     "metadata": {},
     "outputs": [],
     "prompt_number": 10
    },
    {
     "cell_type": "code",
     "collapsed": false,
     "input": [
      "MEASUREMENT_TIMEFRAME = 1\n",
      "#WAVE_OUTPUT_FILENAME = \"output.wav\"\n",
      "BUFFERMAXSIZE = 10 #seconds\n",
      "CHANNELS = 1\n",
      "INPUT_CHANNEL=2\n",
      "RATE = 24000\n",
      "INFORMAT    = alsaaudio.PCM_FORMAT_FLOAT_LE\n",
      "FRAMESIZE   = 512\n",
      "ne.set_num_threads(3)\n",
      "SANITY_MAX_FREQUENCYCHANGE= SANITY_MAX_FREQUENCYCHANGE = 0.1 #Hz/s\n",
      "\n",
      "LOG_SIZE = 15\n",
      "\n",
      "MEASUREMENTS_FILE = \"measurments.csv\""
     ],
     "language": "python",
     "metadata": {},
     "outputs": [],
     "prompt_number": 11
    },
    {
     "cell_type": "code",
     "collapsed": false,
     "input": [
      "# A multithreading compatible buffer. Tuned for maximum write_in performance\n",
      "\n",
      "#According to \n",
      "#https://stackoverflow.com/questions/7133885/fastest-way-to-grow-a-numpy-numeric-array\n",
      "# appending to python arrays is way faster than appending to numpy arrays.\n",
      "\n",
      "class Buffer():\n",
      "    def __init__(self, minSize, maxSize):\n",
      "        self.data = array.array('f')\n",
      "        self.lock = threading.Lock()\n",
      "        self.minSize = minSize\n",
      "        self.maxSize = maxSize\n",
      "\n",
      "    def extend(self,stream):\n",
      "        [length, string] = stream\n",
      "        if length > 0:\n",
      "            with self.lock:\n",
      "                self.data.fromstring(string)\n",
      "        \n",
      "    def get(self, length):        \n",
      "        with self.lock:\n",
      "            bufferSize = self.data.buffer_info()[1]\n",
      "            if bufferSize >= self.maxSize:\n",
      "                #shrink buffer\n",
      "                newdata = array.array('f')\n",
      "                iterator = (self.data[x] for x in range(bufferSize - self.minSize, bufferSize))\n",
      "                newdata.extend(iterator)\n",
      "                self.data = newdata\n",
      "                bufferSize = self.minSize\n",
      "        iterator = (self.data[x] for x in range(bufferSize-length, bufferSize))\n",
      "        return np.fromiter(iterator, dtype='f')"
     ],
     "language": "python",
     "metadata": {},
     "outputs": [],
     "prompt_number": 12
    },
    {
     "cell_type": "code",
     "collapsed": false,
     "input": [
      "class Log():\n",
      "\tdef __init__(self):\n",
      "\t\tself.offset = self.getoffset()\n",
      "\t\tprint(\"The clock is \", self.offset, \"seconds wrong. Changing timestamps\")\n",
      "\t\tself.data = np.zeros([LOG_SIZE,2],dtype='d')\n",
      "\t\tself.index =0\n",
      "        \n",
      "    \n",
      "\tdef getoffset(self):\n",
      "\t\tc = ntplib.NTPClient()\n",
      "\t\tresponse = c.request('europe.pool.ntp.org', version=3)\n",
      "\t\treturn response.offset\n",
      "\n",
      "\tdef store(self,frequency, calculationTime):\n",
      "\t\tcurrTime = time.time() +self.offset- calculationTime - MEASUREMENT_TIMEFRAME/2\n",
      "\t\tself.data[self.index] =  [currTime, frequency]\n",
      "\t\tprint(time.ctime(self.data[self.index,0]), self.data[self.index,1])\n",
      "\t\tself.index += 1\n",
      "\t\tif self.index==LOG_SIZE:\n",
      "\t\t\t# send it to Netzsinus\n",
      "\t\t\t# for now save it to disk.\n",
      "\t\t\tself.saveToDisk()\n",
      "\t\t\n",
      "\n",
      "\tdef saveToDisk(self):\n",
      "\t\tprint(\"========= Storing logfile ========= \")\n",
      "\t\twith open(MEASUREMENTS_FILE, 'a') as f:\n",
      "\t\t\tnp.savetxt(f, self.data[:self.index-1],delimiter=\",\")\n",
      "\t\tself.data = np.zeros([LOG_SIZE,2],dtype='d')\n",
      "\t\tself.index =0"
     ],
     "language": "python",
     "metadata": {},
     "outputs": [],
     "prompt_number": 66
    },
    {
     "cell_type": "code",
     "collapsed": false,
     "input": [
      "class Capture_Hum (threading.Thread):\n",
      "    def __init__(self, threadID, name, buffer, stopSignal):\n",
      "        threading.Thread.__init__(self)\n",
      "        self.threadID = threadID\n",
      "        self.name = name\n",
      "        self.buffer= buffer\n",
      "        self.stopSignal = stopSignal\n",
      "\n",
      "    def run(self):\n",
      "        recorder=alsaaudio.PCM(alsaaudio.PCM_CAPTURE,\n",
      "                       alsaaudio.PCM_NORMAL, \n",
      "                       u'sysdefault:CARD=Device')\n",
      "        recorder.setchannels(CHANNELS)\n",
      "        recorder.setrate(RATE)\n",
      "        recorder.setformat(INFORMAT)\n",
      "        recorder.setperiodsize(FRAMESIZE)\n",
      " \n",
      "\n",
      "        print(self.name ,\"* started recording\")\n",
      "        try:\n",
      "            while (not self.stopSignal.is_set()):\n",
      "            #for i in range(0, int(RATE / FRAMESIZE * self.seconds)):\n",
      "                self.buffer.extend(recorder.read())\n",
      "        except Exception,e:\n",
      "            print(self.name ,str(e))\n",
      "        print(self.name ,\"* stopped recording\")"
     ],
     "language": "python",
     "metadata": {},
     "outputs": [],
     "prompt_number": 14
    },
    {
     "cell_type": "code",
     "collapsed": false,
     "input": [
      "class Analyze_Hum(threading.Thread):\n",
      "    def __init__(self, threadID, name, buffer,log, stopSignal):\n",
      "        threading.Thread.__init__(self)\n",
      "        self.threadID = threadID\n",
      "        self.name = name\n",
      "        self.buffer= buffer\n",
      "        self.log = log\n",
      "        self.stopSignal = stopSignal\n",
      "    \n",
      "    def run(self):\n",
      "        def residuals(p,x,y):\n",
      "            A, k, theta = p\n",
      "            x = x\n",
      "            y = y\n",
      "            err = ne.evaluate('y - A * sin(2 * pi * k * x + theta)')\n",
      "            #err = y - A * sin(2 * pi * k * x + theta)\n",
      "            return err\n",
      "        \n",
      "        print(self.name ,\"* Started measurements\")\n",
      "        x = np.divide(np.arange(RATE*MEASUREMENT_TIMEFRAME),np.array(RATE,dtype=float))\n",
      "        a = 0.2\n",
      "        b = 50\n",
      "        c = 0\n",
      "        \n",
      "        analyze_start = time.time()\n",
      "        measurmentTime = np.array([[b,analyze_start]], dtype='d')\n",
      "        measurmentTime = np.repeat(measurmentTime,5, axis=0)\n",
      "        while (not self.stopSignal.is_set()):\n",
      "            analyze_start = time.time()\n",
      "            y = self.buffer.get(RATE*MEASUREMENT_TIMEFRAME)\n",
      "            plsq = leastsq(residuals, np.array([a,b,c]),args=(x,y))\n",
      "            mean = np.mean(measurmentTime,axis=0)\n",
      "            diffPerSecond = (mean[0]-plsq[0][1])/(mean[1]-time.time())\n",
      "            if diffPerSecond < SANITY_MAX_FREQUENCYCHANGE:\n",
      "                measurmentTime = np.roll(measurmentTime,0)\n",
      "                measurmentTime[0,0] = plsq[0][1]\n",
      "                measurmentTime[0,1] = time.time() \n",
      "                a = plsq[0][0]\n",
      "                b = plsq[0][1]\n",
      "                c = plsq[0][2]\n",
      "                log.store(b,time.time()-analyze_start)\n",
      "                #print(\" -> \", diffPerSecond)\n",
      "            else:\n",
      "                print(\"Analyze: Mesurement seems to be faulty. Frequency changed for\", diffPerSecond)"
     ],
     "language": "python",
     "metadata": {},
     "outputs": [
      {
       "output_type": "stream",
       "stream": "stdout",
       "text": [
        "\n"
       ]
      }
     ],
     "prompt_number": 70
    },
    {
     "cell_type": "code",
     "collapsed": false,
     "input": [
      "log = Log()\n",
      "databuffer = Buffer(RATE*MEASUREMENT_TIMEFRAME, RATE*BUFFERMAXSIZE)\n",
      "stopSignal = threading.Event()\n",
      "capture = Capture_Hum(1,\"Capture\", databuffer, stopSignal)\n",
      "capture.start()\n",
      "\n",
      "time.sleep(MEASURMENT_DURATION+0.05)\n",
      "analyze = Analyze_Hum(2,\"Analyze\", databuffer,log, stopSignal)\n",
      "analyze.start()"
     ],
     "language": "python",
     "metadata": {},
     "outputs": [
      {
       "output_type": "stream",
       "stream": "stdout",
       "text": [
        "('The clock is ', -0.00808858871459961, 'seconds wrong. Changing timestamps')\n",
        "('Capture', '* started recording')\n",
        "('Analyze', '* Started measurements')\n"
       ]
      },
      {
       "output_type": "stream",
       "stream": "stdout",
       "text": [
        "('Sun Jan 17 14:25:08 2016', 49.98226539695861)\n",
        "('Sun Jan 17 14:25:08 2016', 49.982462538850491)\n"
       ]
      },
      {
       "output_type": "stream",
       "stream": "stdout",
       "text": [
        "('Sun Jan 17 14:25:09 2016', 49.982168875028627)\n",
        "('Sun Jan 17 14:25:09 2016', 49.980197004893292)\n"
       ]
      },
      {
       "output_type": "stream",
       "stream": "stdout",
       "text": [
        "('Sun Jan 17 14:25:09 2016', 49.981104125414852)\n",
        "('Sun Jan 17 14:25:10 2016', 49.981237657059275)"
       ]
      },
      {
       "output_type": "stream",
       "stream": "stdout",
       "text": [
        "\n",
        "('Sun Jan 17 14:25:10 2016', 49.981387622077264)\n"
       ]
      }
     ],
     "prompt_number": 71
    },
    {
     "cell_type": "code",
     "collapsed": false,
     "input": [
      "stopSignal.set()"
     ],
     "language": "python",
     "metadata": {},
     "outputs": [
      {
       "output_type": "stream",
       "stream": "stdout",
       "text": [
        "('Sun Jan 17 14:25:11 2016', 49.980197041463825)\n"
       ]
      },
      {
       "output_type": "stream",
       "stream": "stdout",
       "text": [
        "('Capture', '* stopped recording')\n",
        "('Sun Jan 17 14:25:11 2016', 49.98136829491078)\n"
       ]
      }
     ],
     "prompt_number": 72
    },
    {
     "cell_type": "code",
     "collapsed": false,
     "input": [],
     "language": "python",
     "metadata": {},
     "outputs": [],
     "prompt_number": 72
    },
    {
     "cell_type": "code",
     "collapsed": false,
     "input": [],
     "language": "python",
     "metadata": {},
     "outputs": []
    }
   ],
   "metadata": {}
  }
 ]
}