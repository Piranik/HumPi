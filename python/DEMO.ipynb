{
 "metadata": {
  "name": "",
  "signature": "sha256:8e757a3cf49e544acd149d7398388d6885c600f3b31bd75cc3bfca9d8ff10302"
 },
 "nbformat": 3,
 "nbformat_minor": 0,
 "worksheets": [
  {
   "cells": [
    {
     "cell_type": "code",
     "collapsed": false,
     "input": [
      "from scipy.optimize import leastsq\n",
      "#from scipy.io import wavfile\n",
      "import numpy as np\n",
      "from numpy import sin, pi\n",
      "\n",
      "import alsaaudio\n",
      "import numexpr as ne\n",
      "\n",
      "import threading\n",
      "from __future__ import with_statement\n",
      "\n",
      "import sys\n",
      "import array\n",
      "import time\n",
      "import ntplib\n",
      "\n",
      "#import matplotlib.pyplot as plt"
     ],
     "language": "python",
     "metadata": {},
     "outputs": [],
     "prompt_number": 1
    },
    {
     "cell_type": "code",
     "collapsed": false,
     "input": [
      "RECORD_SECONDS = 10\n",
      "MEASURMENT_DURATION = 1\n",
      "#WAVE_OUTPUT_FILENAME = \"output.wav\"\n",
      "BUFFERMAXSIZE = 60 #seconds\n",
      "CHANNELS = 1\n",
      "INPUT_CHANNEL=2\n",
      "RATE = 24000\n",
      "INFORMAT    = alsaaudio.PCM_FORMAT_FLOAT_LE\n",
      "FRAMESIZE   = 512\n",
      "ne.set_num_threads(3)\n",
      "\n",
      "LOG_SIZE = 50"
     ],
     "language": "python",
     "metadata": {},
     "outputs": [],
     "prompt_number": 2
    },
    {
     "cell_type": "code",
     "collapsed": false,
     "input": [
      "# A multithreading compatible buffer. Tuned for maximum write_in performance\n",
      "\n",
      "#According to \n",
      "#https://stackoverflow.com/questions/7133885/fastest-way-to-grow-a-numpy-numeric-array\n",
      "# appending to python arrays is way faster than appending to numpy arrays.\n",
      "\n",
      "class Buffer():\n",
      "    def __init__(self, minSize, maxSize):\n",
      "        self.data = array.array('f')\n",
      "        self.lock = threading.Lock()\n",
      "        self.minSize = minSize\n",
      "        self.maxSize = maxSize\n",
      "\n",
      "    def extend(self,stream):\n",
      "        [length, string] = stream\n",
      "        if length > 0:\n",
      "            with self.lock:\n",
      "                self.data.fromstring(string)\n",
      "        \n",
      "    def get(self, length):        \n",
      "        with self.lock:\n",
      "            bufferSize = self.data.buffer_info()[1]\n",
      "            if bufferSize >= self.maxSize:\n",
      "                #shrink buffer\n",
      "                newdata = array.array('f')\n",
      "                iterator = (self.data[x] for x in range(bufferSize - self.minSize, bufferSize))\n",
      "                newdata.extend(iterator)\n",
      "                self.data = newdata\n",
      "        iterator = (self.data[x] for x in range(bufferSize-length, bufferSize))\n",
      "        return np.fromiter(iterator, dtype='f')"
     ],
     "language": "python",
     "metadata": {},
     "outputs": [],
     "prompt_number": 3
    },
    {
     "cell_type": "code",
     "collapsed": false,
     "input": [
      "class Log():\n",
      "    def __init__(self):\n",
      "        self.offset = self.getoffset()\n",
      "        print(\"offset set to \", self.offset)\n",
      "        self.data = np.zeros([LOG_SIZE,2],dtype='d')\n",
      "        self.index =0\n",
      "        \n",
      "    \n",
      "    def getoffset(self):\n",
      "        c = ntplib.NTPClient()\n",
      "        response = c.request('europe.pool.ntp.org', version=3)\n",
      "        return time.time() - response.tx_time\n",
      "\n",
      "    def store(self,frequency, calculationTime):\n",
      "        currTime = time.time() +self.offset- calculationTime - MEASURMENT_DURATION/2\n",
      "        self.data[self.index] =  [currTime, frequency]\n",
      "        print(time.ctime(self.data[self.index,0]), self.data[self.index,1])\n",
      "        self.index += 1"
     ],
     "language": "python",
     "metadata": {},
     "outputs": [],
     "prompt_number": 4
    },
    {
     "cell_type": "code",
     "collapsed": false,
     "input": [
      "class Capture_Hum (threading.Thread):\n",
      "    def __init__(self, threadID, name, seconds, buffer):\n",
      "        threading.Thread.__init__(self)\n",
      "        self.threadID = threadID\n",
      "        self.name = name\n",
      "        self.seconds = seconds\n",
      "        self.buffer= buffer\n",
      "\n",
      "    def run(self):\n",
      "        recorder=alsaaudio.PCM(alsaaudio.PCM_CAPTURE,\n",
      "                       alsaaudio.PCM_NORMAL, \n",
      "                       u'sysdefault:CARD=Device')\n",
      "        recorder.setchannels(CHANNELS)\n",
      "        recorder.setrate(RATE)\n",
      "        recorder.setformat(INFORMAT)\n",
      "        recorder.setperiodsize(FRAMESIZE)\n",
      " \n",
      "\n",
      "        print(self.name ,\"* started recording\")\n",
      "        try:\n",
      "            for i in range(0, int(RATE / FRAMESIZE * self.seconds)):\n",
      "                self.buffer.extend(recorder.read())\n",
      "        except Exception,e:\n",
      "            print(self.name ,str(e))\n",
      "        print(self.name ,\"* stopped recording\")"
     ],
     "language": "python",
     "metadata": {},
     "outputs": [],
     "prompt_number": 5
    },
    {
     "cell_type": "code",
     "collapsed": false,
     "input": [
      "class Analyze_Hum(threading.Thread):\n",
      "    def __init__(self, threadID, name, seconds, buffer,log):\n",
      "        threading.Thread.__init__(self)\n",
      "        self.threadID = threadID\n",
      "        self.name = name\n",
      "        self.seconds = seconds\n",
      "        self.buffer= buffer\n",
      "        self.log = log\n",
      "    \n",
      "    def run(self):\n",
      "        def residuals(p,x,y):\n",
      "            A, k, theta = p\n",
      "            x = x\n",
      "            y = y\n",
      "            err = ne.evaluate('y - A * sin(2 * pi * k * x + theta)')\n",
      "            #err = y - A * sin(2 * pi * k * x + theta)\n",
      "            return err\n",
      "        \n",
      "        print(self.name ,\"* Started measurements\")\n",
      "        x = np.divide(np.arange(RATE*MEASURMENT_DURATION),np.array(RATE,dtype=float))\n",
      "        a = 0.2\n",
      "        b = 50\n",
      "        c = 0\n",
      "        \n",
      "        analyze_start = time.time()\n",
      "        number = 0;\n",
      "        totalTime = 0\n",
      "        while time.time() - analyze_start < self.seconds:\n",
      "            start_time = time.time()\n",
      "            y = self.buffer.get(RATE*MEASURMENT_DURATION)\n",
      "            plsq = leastsq(residuals, np.array([a,b,c]),args=(x,y))\n",
      "            took = time.time() - start_time\n",
      "            if np.abs(b-plsq[0][1]) < 0.06:\n",
      "                #sanitycheck\n",
      "                a = plsq[0][0]\n",
      "                b = plsq[0][1]\n",
      "                c = plsq[0][2]\n",
      "                number += 1\n",
      "                totalTime += took\n",
      "                log.store(b,took)\n",
      "                #print(\"Analyze: Frequency =\", b, \"measured in\", time.time() - start_time)\n",
      "            else:\n",
      "                print(\"Analyze: Mesurement seems to be faulty. Change:\", np.abs(b-plsq[0][1]))\n",
      "        print(self.name ,\"* Finished measurements, average measurement duration is\", totalTime/number)"
     ],
     "language": "python",
     "metadata": {},
     "outputs": [],
     "prompt_number": 6
    },
    {
     "cell_type": "code",
     "collapsed": false,
     "input": [
      "log = Log()\n",
      "databuffer = Buffer(RATE*MEASURMENT_DURATION, RATE*BUFFERMAXSIZE)\n",
      "capture = Capture_Hum(1,\"Capture\", RECORD_SECONDS, databuffer)\n",
      "capture.start()\n",
      "\n",
      "time.sleep(MEASURMENT_DURATION+0.05)\n",
      "analyze = Analyze_Hum(2,\"Analyze\", RECORD_SECONDS-MEASURMENT_DURATION, databuffer,log)\n",
      "analyze.start()"
     ],
     "language": "python",
     "metadata": {},
     "outputs": [
      {
       "output_type": "stream",
       "stream": "stdout",
       "text": [
        "('offset set to ', 0.011137723922729492)\n",
        "('Capture', '* started recording')\n"
       ]
      },
      {
       "output_type": "stream",
       "stream": "stdout",
       "text": [
        "('Analyze', '* Started measurements')\n"
       ]
      },
      {
       "output_type": "stream",
       "stream": "stdout",
       "text": [
        "('Sat Jan 16 17:58:49 2016', 49.999805937280364)\n",
        "('Sat Jan 16 17:58:50 2016', 50.001795093077106)\n"
       ]
      },
      {
       "output_type": "stream",
       "stream": "stdout",
       "text": [
        "('Sat Jan 16 17:58:50 2016', 50.00395813949882)\n",
        "('Sat Jan 16 17:58:51 2016', 50.004277220226591)\n"
       ]
      },
      {
       "output_type": "stream",
       "stream": "stdout",
       "text": [
        "('Sat Jan 16 17:58:51 2016', 50.005392373886423)\n",
        "('Sat Jan 16 17:58:51 2016', 50.007414455331038)\n"
       ]
      },
      {
       "output_type": "stream",
       "stream": "stdout",
       "text": [
        "('Sat Jan 16 17:58:52 2016', 50.007503877515497)\n",
        "('Sat Jan 16 17:58:52 2016', 50.007442489224822)\n"
       ]
      },
      {
       "output_type": "stream",
       "stream": "stdout",
       "text": [
        "('Sat Jan 16 17:58:52 2016', 50.007979902809282)\n",
        "('Sat Jan 16 17:58:53 2016', 50.010920494699903)\n"
       ]
      },
      {
       "output_type": "stream",
       "stream": "stdout",
       "text": [
        "('Sat Jan 16 17:58:53 2016', 50.011899612281553)\n",
        "('Sat Jan 16 17:58:53 2016', 50.010965097554596)\n"
       ]
      },
      {
       "output_type": "stream",
       "stream": "stdout",
       "text": [
        "('Sat Jan 16 17:58:53 2016', 50.011494100668322)\n",
        "('Sat Jan 16 17:58:54 2016', 50.014971992436145)\n"
       ]
      },
      {
       "output_type": "stream",
       "stream": "stdout",
       "text": [
        "('Sat Jan 16 17:58:54 2016', 50.014620636970115)\n",
        "('Sat Jan 16 17:58:55 2016', 50.013842645609913)\n"
       ]
      },
      {
       "output_type": "stream",
       "stream": "stdout",
       "text": [
        "('Sat Jan 16 17:58:55 2016', 50.014698812952716)\n",
        "('Sat Jan 16 17:58:55 2016', 50.016273540017636)\n"
       ]
      },
      {
       "output_type": "stream",
       "stream": "stdout",
       "text": [
        "('Sat Jan 16 17:58:56 2016', 50.015200800224576)\n",
        "('Sat Jan 16 17:58:56 2016', 50.017431569251947)\n"
       ]
      },
      {
       "output_type": "stream",
       "stream": "stdout",
       "text": [
        "('Sat Jan 16 17:58:56 2016', 50.017761413878716)\n",
        "('Sat Jan 16 17:58:57 2016', 50.018062519864522)"
       ]
      },
      {
       "output_type": "stream",
       "stream": "stdout",
       "text": [
        "\n",
        "('Sat Jan 16 17:58:57 2016', 50.017466650045449)\n"
       ]
      },
      {
       "output_type": "stream",
       "stream": "stdout",
       "text": [
        "('Sat Jan 16 17:58:57 2016', 50.017580486628901)\n",
        "('Sat Jan 16 17:58:58 2016', 50.017945919772536)\n"
       ]
      },
      {
       "output_type": "stream",
       "stream": "stdout",
       "text": [
        "('Capture', '* stopped recording')\n",
        "('Sat Jan 16 17:58:58 2016', 50.017894199188987)\n",
        "('Analyze', '* Finished measurements, average measurement duration is', 0.3499444631429819)\n"
       ]
      }
     ],
     "prompt_number": 7
    },
    {
     "cell_type": "code",
     "collapsed": false,
     "input": [],
     "language": "python",
     "metadata": {},
     "outputs": [],
     "prompt_number": 7
    }
   ],
   "metadata": {}
  }
 ]
}